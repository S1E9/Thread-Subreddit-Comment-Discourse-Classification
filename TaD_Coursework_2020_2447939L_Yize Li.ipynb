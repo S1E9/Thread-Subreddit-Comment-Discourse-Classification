{
  "nbformat": 4,
  "nbformat_minor": 0,
  "metadata": {
    "colab": {
      "name": "TaD Coursework 2020 - v1.0 final",
      "provenance": [],
      "collapsed_sections": [
        "2gv2i9fNDvrg",
        "xsIxgId1Uhmc",
        "tnuJxevcod3T",
        "fYXUCaX62Wf-",
        "RCWd6OGw2DGJ",
        "gNUtyDE0U1-J",
        "MrW90bx_eMpp",
        "JY7cCrmLeMKS",
        "GrWvgHVYeLvw",
        "isXtbcuZeJyE",
        "moM85XMGd7P7"
      ],
      "toc_visible": true
    },
    "kernelspec": {
      "name": "python3",
      "display_name": "Python 3"
    },
    "accelerator": "GPU"
  },
  "cells": [
    {
      "cell_type": "markdown",
      "metadata": {
        "id": "2gv2i9fNDvrg",
        "colab_type": "text"
      },
      "source": [
        "# Part A: Subreddit Prediction #"
      ]
    },
    {
      "cell_type": "code",
      "metadata": {
        "id": "ZG9BpbQt3-ko",
        "colab_type": "code",
        "outputId": "a5a4fe96-a729-4e7a-fd5f-5c897fa1d8c5",
        "colab": {
          "base_uri": "https://localhost:8080/",
          "height": 170
        }
      },
      "source": [
        "subreddit_train = \"coursework_subreddit_train.json\"\n",
        "subreddit_validation = \"coursework_subreddit_validation.json\"\n",
        "subreddit_test = \"coursework_subreddit_test.json\"\n",
        "\n",
        "!gsutil cp gs://textasdata/coursework/coursework_subreddit_train2020.json $subreddit_train \n",
        "!gsutil cp gs://textasdata/coursework/coursework_subreddit_validation2020.json $subreddit_validation \n",
        "!gsutil cp gs://textasdata/coursework/coursework_subreddit_test.json  $subreddit_test"
      ],
      "execution_count": 0,
      "outputs": [
        {
          "output_type": "stream",
          "text": [
            "Copying gs://textasdata/coursework/coursework_subreddit_train2020.json...\n",
            "- [1 files][  8.0 MiB/  8.0 MiB]                                                \n",
            "Operation completed over 1 objects/8.0 MiB.                                      \n",
            "Copying gs://textasdata/coursework/coursework_subreddit_validation2020.json...\n",
            "- [1 files][  2.1 MiB/  2.1 MiB]                                                \n",
            "Operation completed over 1 objects/2.1 MiB.                                      \n",
            "Copying gs://textasdata/coursework/coursework_subreddit_test.json...\n",
            "- [1 files][  2.7 MiB/  2.7 MiB]                                                \n",
            "Operation completed over 1 objects/2.7 MiB.                                      \n"
          ],
          "name": "stdout"
        }
      ]
    },
    {
      "cell_type": "markdown",
      "metadata": {
        "id": "hfM6LUe3rPEl",
        "colab_type": "text"
      },
      "source": [
        "Train Dataset"
      ]
    },
    {
      "cell_type": "code",
      "metadata": {
        "id": "iCEG8t6PC2f7",
        "colab_type": "code",
        "outputId": "d43e20f7-ba64-432b-efcd-2df2b0f05524",
        "colab": {
          "base_uri": "https://localhost:8080/",
          "height": 187
        }
      },
      "source": [
        "import pandas as pd\n",
        "import warnings\n",
        "warnings.filterwarnings('ignore')\n",
        "\n",
        "# Train Dataset\n",
        "train_threads = pd.read_json(path_or_buf=subreddit_train, lines=True)\n",
        "print(list(train_threads.columns.values))\n",
        "print(train_threads.head())\n",
        "print(train_threads.size)"
      ],
      "execution_count": 0,
      "outputs": [
        {
          "output_type": "stream",
          "text": [
            "['is_self_post', 'posts', 'subreddit', 'title', 'url']\n",
            "   is_self_post  ...                                                url\n",
            "0           1.0  ...  https://www.reddit.com/r/relationships/comment...\n",
            "1           1.0  ...  https://www.reddit.com/r/AskReddit/comments/22...\n",
            "2           1.0  ...  https://www.reddit.com/r/trees/comments/46d0iu...\n",
            "3           1.0  ...  https://www.reddit.com/r/AskReddit/comments/19...\n",
            "4           1.0  ...  https://www.reddit.com/r/explainlikeimfive/com...\n",
            "\n",
            "[5 rows x 5 columns]\n",
            "5820\n"
          ],
          "name": "stdout"
        }
      ]
    },
    {
      "cell_type": "markdown",
      "metadata": {
        "id": "8URZO3V9rSiU",
        "colab_type": "text"
      },
      "source": [
        "Validation Dataset"
      ]
    },
    {
      "cell_type": "code",
      "metadata": {
        "id": "Mz5RFxFXDCKZ",
        "colab_type": "code",
        "outputId": "4cb19a35-bf98-4f0f-d52e-29d6bb6eed24",
        "colab": {
          "base_uri": "https://localhost:8080/",
          "height": 187
        }
      },
      "source": [
        "\n",
        "# Validation Dataset\n",
        "validation_threads = pd.read_json(path_or_buf=subreddit_validation, lines=True)\n",
        "print(list(validation_threads.columns.values))\n",
        "print(validation_threads.head())\n",
        "print(validation_threads.size)"
      ],
      "execution_count": 0,
      "outputs": [
        {
          "output_type": "stream",
          "text": [
            "['is_self_post', 'posts', 'subreddit', 'title', 'url']\n",
            "   is_self_post  ...                                                url\n",
            "0           1.0  ...  https://www.reddit.com/r/hearthstone/comments/...\n",
            "1           1.0  ...  https://www.reddit.com/r/explainlikeimfive/com...\n",
            "2           1.0  ...  https://www.reddit.com/r/AskReddit/comments/tl...\n",
            "3           1.0  ...  https://www.reddit.com/r/AskReddit/comments/22...\n",
            "4           1.0  ...  https://www.reddit.com/r/reddit.com/comments/f...\n",
            "\n",
            "[5 rows x 5 columns]\n",
            "1460\n"
          ],
          "name": "stdout"
        }
      ]
    },
    {
      "cell_type": "markdown",
      "metadata": {
        "id": "jnvPrw4vrUGa",
        "colab_type": "text"
      },
      "source": [
        "Test Dataset"
      ]
    },
    {
      "cell_type": "code",
      "metadata": {
        "id": "89UU3g27C8SZ",
        "colab_type": "code",
        "outputId": "d309515d-6d89-4f62-b560-e00f803e25ca",
        "colab": {
          "base_uri": "https://localhost:8080/",
          "height": 170
        }
      },
      "source": [
        "test_threads = pd.read_json(path_or_buf=subreddit_test, lines=True)\n",
        "print(test_threads.head())\n",
        "print(test_threads.size)"
      ],
      "execution_count": 0,
      "outputs": [
        {
          "output_type": "stream",
          "text": [
            "   is_self_post  ...                                                url\n",
            "0           1.0  ...  https://www.reddit.com/r/starcraft/comments/mq...\n",
            "1           1.0  ...  https://www.reddit.com/r/whowouldwin/comments/...\n",
            "2           1.0  ...  https://www.reddit.com/r/AskReddit/comments/27...\n",
            "3           1.0  ...  https://www.reddit.com/r/AskReddit/comments/x9...\n",
            "4           1.0  ...  https://www.reddit.com/r/tipofmytongue/comment...\n",
            "\n",
            "[5 rows x 5 columns]\n",
            "1825\n"
          ],
          "name": "stdout"
        }
      ]
    },
    {
      "cell_type": "code",
      "metadata": {
        "id": "3Nl9qzazDQ_6",
        "colab_type": "code",
        "outputId": "434ce7e3-8ce0-44d0-9b8e-03a44ad63bff",
        "colab": {
          "base_uri": "https://localhost:8080/",
          "height": 527
        }
      },
      "source": [
        "subreddit_counts = train_threads['subreddit'].value_counts()\n",
        "print(subreddit_counts.describe())\n",
        "top_subbreddits = subreddit_counts.nlargest(20)\n",
        "top_subbreddits_list = top_subbreddits.index.tolist()\n",
        "print(top_subbreddits)"
      ],
      "execution_count": 0,
      "outputs": [
        {
          "output_type": "stream",
          "text": [
            "count     20.000000\n",
            "mean      58.200000\n",
            "std       60.248258\n",
            "min       20.000000\n",
            "25%       28.750000\n",
            "50%       38.500000\n",
            "75%       49.500000\n",
            "max      276.000000\n",
            "Name: subreddit, dtype: float64\n",
            "askreddit               276\n",
            "leagueoflegends         157\n",
            "buildapc                103\n",
            "explainlikeimfive        60\n",
            "gaming                   51\n",
            "trees                    49\n",
            "techsupport              48\n",
            "pcmasterrace             47\n",
            "electronic_cigarette     46\n",
            "relationships            42\n",
            "tipofmytongue            35\n",
            "summonerschool           33\n",
            "jailbreak                31\n",
            "hearthstone              30\n",
            "whowouldwin              29\n",
            "atheism                  28\n",
            "personalfinance          27\n",
            "reddit.com               27\n",
            "movies                   25\n",
            "starcraft                20\n",
            "Name: subreddit, dtype: int64\n"
          ],
          "name": "stdout"
        }
      ]
    },
    {
      "cell_type": "code",
      "metadata": {
        "id": "02OXNfo9H8Kc",
        "colab_type": "code",
        "colab": {}
      },
      "source": [
        "train_labels = train_threads['subreddit']\n",
        "validation_labels = validation_threads['subreddit']\n",
        "test_labels = test_threads['subreddit']"
      ],
      "execution_count": 0,
      "outputs": []
    },
    {
      "cell_type": "code",
      "metadata": {
        "id": "yw9HgdcHVAuO",
        "colab_type": "code",
        "outputId": "fdf6edec-16d4-4233-e4ea-c89bd9caa530",
        "colab": {
          "base_uri": "https://localhost:8080/",
          "height": 68
        }
      },
      "source": [
        "import spacy\n",
        "\n",
        "nlp = spacy.load('en_core_web_sm', disable=['ner'])\n",
        "\n",
        "import nltk\n",
        "nltk.download('stopwords')"
      ],
      "execution_count": 0,
      "outputs": [
        {
          "output_type": "stream",
          "text": [
            "[nltk_data] Downloading package stopwords to /root/nltk_data...\n",
            "[nltk_data]   Unzipping corpora/stopwords.zip.\n"
          ],
          "name": "stdout"
        },
        {
          "output_type": "execute_result",
          "data": {
            "text/plain": [
              "True"
            ]
          },
          "metadata": {
            "tags": []
          },
          "execution_count": 7
        }
      ]
    },
    {
      "cell_type": "markdown",
      "metadata": {
        "id": "xsIxgId1Uhmc",
        "colab_type": "text"
      },
      "source": [
        "##Q1"
      ]
    },
    {
      "cell_type": "markdown",
      "metadata": {
        "id": "l7waj8rm_3Mj",
        "colab_type": "text"
      },
      "source": [
        "Data preparing, to add features like ids of the authors and the bodies of all the posts"
      ]
    },
    {
      "cell_type": "code",
      "metadata": {
        "id": "wh4IzTEK_1m9",
        "colab_type": "code",
        "colab": {}
      },
      "source": [
        " def extract_features(dataset):\n",
        "  i = 0\n",
        "  post_ids = []\n",
        "  post_bodies = []\n",
        "  post_depths = []\n",
        "  for posts in dataset['posts']:\n",
        "    ids = []\n",
        "    bodies = [] \n",
        "    depths = [] \n",
        "    for sub_posts in posts:\n",
        "      ids.append(sub_posts['id'])\n",
        "      if('body' in sub_posts):\n",
        "        bodies.append(sub_posts['body'])\n",
        "      if('post_depth' in sub_posts):\n",
        "        depths.append(sub_posts['post_depth'])\n",
        "    post_ids.append(ids)\n",
        "    post_bodies.append(bodies)\n",
        "    post_depths.append(depths)\n",
        "    i += 1\n",
        "    \n",
        "\n",
        "  dataset['all_posts_ids'] = post_ids\n",
        "  dataset['all_posts_bodies'] = post_bodies\n",
        "  dataset['all_posts_depths'] = post_depths"
      ],
      "execution_count": 0,
      "outputs": []
    },
    {
      "cell_type": "code",
      "metadata": {
        "id": "ZToR21l-B88T",
        "colab_type": "code",
        "colab": {}
      },
      "source": [
        "extract_features(train_threads)\n",
        "extract_features(validation_threads)\n",
        "extract_features(test_threads)"
      ],
      "execution_count": 0,
      "outputs": []
    },
    {
      "cell_type": "code",
      "metadata": {
        "id": "swmOwwaXGWbl",
        "colab_type": "code",
        "colab": {}
      },
      "source": [
        "def listToString(s):  \n",
        "    str1 = \"\"  \n",
        "    for ele in s:  \n",
        "        str1 += ele   \n",
        "    return str1  \n",
        "\n",
        "k = 0\n",
        "for i in train_threads['all_posts_bodies']:\n",
        "  train_threads['all_posts_bodies'][k] = listToString(train_threads['all_posts_bodies'][k])\n",
        "  train_threads['all_posts_ids'][k] = listToString(train_threads['all_posts_ids'][k])\n",
        "  # train_threads['all_posts_depths'][k] = listToString(train_threads['all_posts_depths'][k])\n",
        "  k += 1\n",
        "\n",
        "k = 0\n",
        "for i in validation_threads['all_posts_bodies']:\n",
        "  validation_threads['all_posts_bodies'][k] = listToString(validation_threads['all_posts_bodies'][k])\n",
        "  validation_threads['all_posts_ids'][k] = listToString(validation_threads['all_posts_ids'][k])\n",
        "  # validation_threads['all_posts_depths'][k] = listToString(validation_threads['all_posts_depths'][k])\n",
        "  k += 1\n",
        "\n",
        "k = 0\n",
        "for i in test_threads['all_posts_bodies']:\n",
        "  test_threads['all_posts_bodies'][k] = listToString(test_threads['all_posts_bodies'][k])\n",
        "  test_threads['all_posts_ids'][k] = listToString(test_threads['all_posts_ids'][k])\n",
        "  # test_threads['all_posts_depths'][k] = listToString(test_threads['all_posts_depths'][k])\n",
        "  k += 1"
      ],
      "execution_count": 0,
      "outputs": []
    },
    {
      "cell_type": "markdown",
      "metadata": {
        "id": "rhMfg0DpBdkb",
        "colab_type": "text"
      },
      "source": [
        "Tokenize and normalize functions"
      ]
    },
    {
      "cell_type": "code",
      "metadata": {
        "id": "2El0fDZIYiiG",
        "colab_type": "code",
        "colab": {}
      },
      "source": [
        "def spacy_tokenize(string):\n",
        "  tokens = list()\n",
        "  doc = nlp(string)\n",
        "  for token in doc:\n",
        "    tokens.append(token)\n",
        "  return tokens\n",
        "\n",
        "def normalize(tokens):\n",
        "  normalized_tokens = list()\n",
        "  for token in tokens:\n",
        "    normalized = token.text.lower().strip()\n",
        "    if ((token.is_alpha or token.is_digit)):\n",
        "      normalized_tokens.append(normalized)\n",
        "  return normalized_tokens\n",
        "  return normalized_tokens\n",
        "\n",
        "def tokenize_normalize(string):\n",
        "  return normalize(spacy_tokenize(string))"
      ],
      "execution_count": 0,
      "outputs": []
    },
    {
      "cell_type": "markdown",
      "metadata": {
        "id": "tP8DEIgQ5tUn",
        "colab_type": "text"
      },
      "source": [
        "Combine Features\n"
      ]
    },
    {
      "cell_type": "code",
      "metadata": {
        "id": "aue3jcp-5sij",
        "colab_type": "code",
        "colab": {}
      },
      "source": [
        "from sklearn.base import BaseEstimator, TransformerMixin\n",
        "\n",
        "class ItemSelector(BaseEstimator, TransformerMixin):\n",
        "    \"\"\"For data grouped by feature, select subset of data at a provided key.    \"\"\"\n",
        "\n",
        "    def __init__(self, key):\n",
        "        self.key = key\n",
        "\n",
        "    def fit(self, x, y=None):\n",
        "        return self\n",
        "\n",
        "    def transform(self, data_dict):\n",
        "        return data_dict[self.key]"
      ],
      "execution_count": 0,
      "outputs": []
    },
    {
      "cell_type": "code",
      "metadata": {
        "id": "cO0pNPgK5pjz",
        "colab_type": "code",
        "colab": {}
      },
      "source": [
        "from sklearn.pipeline import FeatureUnion\n",
        "from sklearn.pipeline import Pipeline\n",
        "from sklearn.feature_extraction.text import CountVectorizer\n",
        "from sklearn.feature_extraction.text import TfidfVectorizer\n",
        "\n",
        "# Use FeatureUnion to combine the features from text and summary\n",
        "# One hot\n",
        "prediction_pipeline = Pipeline([\n",
        "        ('union', FeatureUnion(\n",
        "          transformer_list=[\n",
        "            ('text', Pipeline([\n",
        "              ('selector', ItemSelector(key='title')),\n",
        "              ('one-hot', CountVectorizer(tokenizer=tokenize_normalize, binary=True)), \n",
        "              ])),\n",
        "            ('all_posts_bodies', Pipeline([\n",
        "              ('selector', ItemSelector(key='all_posts_bodies')),\n",
        "              ('one-hot', CountVectorizer(tokenizer=tokenize_normalize, binary=True)), \n",
        "              ])),\n",
        "            ('all_posts_ids', Pipeline([\n",
        "              ('selector', ItemSelector(key='all_posts_ids')),\n",
        "              ('one-hot', CountVectorizer(tokenizer=tokenize_normalize, binary=True)), \n",
        "              ])),\n",
        "        ])\n",
        "        )\n",
        "    ])\n",
        "# TF-IDF\n",
        "prediction_pipeline_tfidf = Pipeline([\n",
        "        ('union', FeatureUnion(\n",
        "          transformer_list=[\n",
        "            ('text', Pipeline([\n",
        "              ('selector', ItemSelector(key='title')),\n",
        "              ('tf_idf', TfidfVectorizer(tokenizer=tokenize_normalize, binary=True)), \n",
        "              ])),\n",
        "            ('all_posts_bodies', Pipeline([\n",
        "              ('selector', ItemSelector(key='all_posts_bodies')),\n",
        "              ('tf_idf', TfidfVectorizer(tokenizer=tokenize_normalize, binary=True)), \n",
        "              ])),\n",
        "            ('all_posts_ids', Pipeline([\n",
        "              ('selector', ItemSelector(key='all_posts_ids')),\n",
        "              ('tf_idf', TfidfVectorizer(tokenizer=tokenize_normalize, binary=True)), \n",
        "              ])),\n",
        "        ])\n",
        "        )\n",
        "        \n",
        "    ])"
      ],
      "execution_count": 0,
      "outputs": []
    },
    {
      "cell_type": "code",
      "metadata": {
        "id": "CLMYiBe_6gYi",
        "colab_type": "code",
        "colab": {}
      },
      "source": [
        "one_hot_train_features = prediction_pipeline.fit_transform(train_threads)\n",
        "one_hot_validation_features = prediction_pipeline.transform(validation_threads)\n",
        "one_hot_test_features = prediction_pipeline.transform(test_threads)\n",
        "\n",
        "tfidf_train_features = prediction_pipeline_tfidf.fit_transform(train_threads)\n",
        "tfidf_validation_features = prediction_pipeline_tfidf.transform(validation_threads)\n",
        "tfidf_test_features = prediction_pipeline_tfidf.transform(test_threads)"
      ],
      "execution_count": 0,
      "outputs": []
    },
    {
      "cell_type": "markdown",
      "metadata": {
        "id": "CqXVjw82N17i",
        "colab_type": "text"
      },
      "source": [
        "Define summary function"
      ]
    },
    {
      "cell_type": "code",
      "metadata": {
        "id": "9x_SFTYQN1TK",
        "colab_type": "code",
        "colab": {}
      },
      "source": [
        "from sklearn.metrics import classification_report\n",
        "from sklearn.metrics import confusion_matrix\n",
        "from sklearn.metrics import precision_score\n",
        "from sklearn.metrics import recall_score\n",
        "from sklearn.metrics import accuracy_score\n",
        "from sklearn.metrics import fbeta_score\n",
        "from tabulate import tabulate\n",
        "\n",
        "def score_summary(model_name, predictions, true_labels):\n",
        "  print(\"Evaluating \" + model_name)\n",
        "  precision = round(precision_score(predictions, true_labels, average='macro'),3)\n",
        "  recall = round(recall_score(predictions, true_labels, average='macro'),3)\n",
        "  accuracy = round(accuracy_score(predictions, true_labels),3)\n",
        "  f1 = round(fbeta_score(predictions, true_labels, 1, average = 'macro'),3)\n",
        "  a = [model_name,accuracy,precision,recall,f1]\n",
        "  return a\n",
        "  # print(\"Classifier '%s' has Acc=%0.3f Macro Precesion=%0.3f Recall=%0.3f F1=%0.3f\" % (model_name,accuracy,precision,recall,f1))"
      ],
      "execution_count": 0,
      "outputs": []
    },
    {
      "cell_type": "markdown",
      "metadata": {
        "id": "4xFqnRCwN6JE",
        "colab_type": "text"
      },
      "source": [
        "Train and evaluate 6 models"
      ]
    },
    {
      "cell_type": "code",
      "metadata": {
        "id": "xSDEBT_6CWQ8",
        "colab_type": "code",
        "outputId": "a8d9ba6e-3a3b-4f31-837a-3ac502da0442",
        "colab": {
          "base_uri": "https://localhost:8080/",
          "height": 221
        }
      },
      "source": [
        "from sklearn.dummy import DummyClassifier\n",
        "from sklearn.linear_model import LogisticRegression\n",
        "from sklearn.svm import SVC\n",
        "from sklearn.neural_network import MLPClassifier\n",
        "\n",
        "dummy_most_frequent = DummyClassifier(strategy='most_frequent')\n",
        "dummy_most_frequent.fit(one_hot_train_features, train_labels)\n",
        "predict_labels = dummy_most_frequent.predict(one_hot_train_features)\n",
        "predict_labels_test = dummy_most_frequent.predict(one_hot_test_features)\n",
        "\n",
        "sum1 = score_summary(\"dummy model: most frequent\",predict_labels,train_labels)\n",
        "sum1_1 = score_summary(\"dummy model: most frequent\",predict_labels_test,test_labels)\n",
        "#-------------------------------------------------------------------------------------#\n",
        "dummy_stratified = DummyClassifier(strategy='stratified')\n",
        "dummy_stratified.fit(one_hot_train_features, train_labels)\n",
        "predict_labels = dummy_stratified.predict(one_hot_train_features)\n",
        "predict_labels_test = dummy_stratified.predict(one_hot_test_features)\n",
        "\n",
        "sum2 = score_summary(\"dummy model: stratified\",predict_labels,train_labels)\n",
        "sum2_1 = score_summary(\"dummy model: stratified\",predict_labels_test,test_labels)\n",
        "#-------------------------------------------------------------------------------------#\n",
        "lr_one_hot = LogisticRegression(solver='saga')\n",
        "lr_one_hot.fit(one_hot_train_features, train_labels)\n",
        "predict_labels = lr_one_hot.predict(one_hot_train_features)\n",
        "predict_labels_test = lr_one_hot.predict(one_hot_test_features)\n",
        "\n",
        "sum3 = score_summary(\"lr: one hot\",predict_labels,train_labels)\n",
        "sum3_1 = score_summary(\"lr: one hot\",predict_labels_test,test_labels)\n",
        "#-------------------------------------------------------------------------------------#\n",
        "lr_tfidf = LogisticRegression(solver='saga')\n",
        "lr_tfidf.fit(tfidf_train_features, train_labels)\n",
        "predict_labels = lr_tfidf.predict(tfidf_train_features)\n",
        "predict_labels_test = lr_tfidf.predict(tfidf_test_features)\n",
        "\n",
        "sum4 = score_summary(\"lr: TF-IDF\",predict_labels,train_labels)\n",
        "sum4_1 = score_summary(\"lr: TF-IDF\",predict_labels_test,test_labels)\n",
        "#-------------------------------------------------------------------------------------#\n",
        "svc_model = SVC(gamma='auto')\n",
        "svc_model.fit(one_hot_train_features, train_labels)\n",
        "predict_labels = svc_model.predict(one_hot_train_features)\n",
        "predict_labels_test = svc_model.predict(one_hot_test_features)\n",
        "\n",
        "sum5 = score_summary(\"SVC\",predict_labels,train_labels)\n",
        "sum5_1 = score_summary(\"SVC\",predict_labels_test,test_labels)\n",
        "#-------------------------------------------------------------------------------------#\n",
        "MLP = MLPClassifier(hidden_layer_sizes=80)\n",
        "MLP.fit(one_hot_train_features, train_labels)\n",
        "predict_labels = MLP.predict(one_hot_train_features)\n",
        "predict_labels_test = MLP.predict(one_hot_test_features)\n",
        "\n",
        "sum6 = score_summary(\"MLC\",predict_labels,train_labels)\n",
        "sum6_1 = score_summary(\"MLC\",predict_labels_test,test_labels)"
      ],
      "execution_count": 0,
      "outputs": [
        {
          "output_type": "stream",
          "text": [
            "Evaluating dummy model: most frequent\n",
            "Evaluating dummy model: most frequent\n",
            "Evaluating dummy model: stratified\n",
            "Evaluating dummy model: stratified\n",
            "Evaluating lr: one hot\n",
            "Evaluating lr: one hot\n",
            "Evaluating lr: TF-IDF\n",
            "Evaluating lr: TF-IDF\n",
            "Evaluating SVC\n",
            "Evaluating SVC\n",
            "Evaluating MLC\n",
            "Evaluating MLC\n"
          ],
          "name": "stdout"
        }
      ]
    },
    {
      "cell_type": "code",
      "metadata": {
        "id": "QbVM3n_xfQA5",
        "colab_type": "code",
        "outputId": "de57843d-8857-4798-85a7-e12d30854a9d",
        "colab": {
          "base_uri": "https://localhost:8080/",
          "height": 323
        }
      },
      "source": [
        "\n",
        "print(\"Summary on training set\")\n",
        "print(tabulate([sum1,sum2,sum3,sum4,sum5,sum6],headers=[\"Acc\",\"Marco Precision\", \"Recall\", \"F1\"]))\n",
        "\n",
        "print(\"Summary on test set\")\n",
        "print(tabulate([sum1_1,sum2_1,sum3_1,sum4_1,sum5_1,sum6_1],headers=[\"Acc\",\"Marco Precision\", \"Recall\", \"F1\"]))"
      ],
      "execution_count": 0,
      "outputs": [
        {
          "output_type": "stream",
          "text": [
            "Summary on training set\n",
            "                              Acc    Marco Precision    Recall     F1\n",
            "--------------------------  -----  -----------------  --------  -----\n",
            "dummy model: most frequent  0.237              0.05      0.012  0.019\n",
            "dummy model: stratified     0.102              0.059     0.059  0.058\n",
            "lr: one hot                 1                  1         1      1\n",
            "lr: TF-IDF                  1                  1         1      1\n",
            "SVC                         0.237              0.05      0.012  0.019\n",
            "MLC                         1                  1         1      1\n",
            "Summary on test set\n",
            "                              Acc    Marco Precision    Recall     F1\n",
            "--------------------------  -----  -----------------  --------  -----\n",
            "dummy model: most frequent  0.23               0.05      0.012  0.019\n",
            "dummy model: stratified     0.126              0.075     0.07   0.069\n",
            "lr: one hot                 0.644              0.515     0.694  0.555\n",
            "lr: TF-IDF                  0.677              0.556     0.742  0.597\n",
            "SVC                         0.23               0.05      0.012  0.019\n",
            "MLC                         0.649              0.491     0.73   0.522\n"
          ],
          "name": "stdout"
        }
      ]
    },
    {
      "cell_type": "markdown",
      "metadata": {
        "id": "V0Ej9NHBjM8d",
        "colab_type": "text"
      },
      "source": [
        "Draw a plot for the best performance classifier"
      ]
    },
    {
      "cell_type": "code",
      "metadata": {
        "id": "UuKIaM7PjMdQ",
        "colab_type": "code",
        "outputId": "bd1b9cec-6eaf-4a9e-98b5-8a11ee04a37a",
        "colab": {
          "base_uri": "https://localhost:8080/",
          "height": 489
        }
      },
      "source": [
        "import matplotlib.pyplot as plt\n",
        "\n",
        "l = []\n",
        "predict_labels_test = MLP.predict(one_hot_test_features)\n",
        "l = fbeta_score(predict_labels_test, test_labels, beta = 1, labels = test_labels, average = None)\n",
        "\n",
        "plt.figure(figsize=(12,6))\n",
        "plt.title(\"F1 score for each class\")\n",
        "plt.xlabel(\"Class names\")\n",
        "plt.ylabel(\"F1 Score\")\n",
        "plt.xticks(rotation=45)\n",
        "plt.bar(test_labels, l, 0.8)\n"
      ],
      "execution_count": 0,
      "outputs": [
        {
          "output_type": "execute_result",
          "data": {
            "text/plain": [
              "<BarContainer object of 365 artists>"
            ]
          },
          "metadata": {
            "tags": []
          },
          "execution_count": 18
        },
        {
          "output_type": "display_data",
          "data": {
            "image/png": "[encoded data removed]",
            "text/plain": [
              "<Figure size 864x432 with 1 Axes>"
            ]
          },
          "metadata": {
            "tags": []
          }
        }
      ]
    },
    {
      "cell_type": "markdown",
      "metadata": {
        "id": "tnuJxevcod3T",
        "colab_type": "text"
      },
      "source": [
        "##Q2\n",
        "\n",
        "\n"
      ]
    },
    {
      "cell_type": "code",
      "metadata": {
        "id": "8oFMKC_zogNV",
        "colab_type": "code",
        "outputId": "2a3324f9-9eff-41b3-90c8-2f66de3edb19",
        "colab": {
          "base_uri": "https://localhost:8080/",
          "height": 119
        }
      },
      "source": [
        "from sklearn.model_selection import GridSearchCV\n",
        "\n",
        "grid_search = GridSearchCV(lr_tfidf, param_grid = {'C': [0.001, 0.01, 0.1, 1,10,100,1000,10000,100000]}, n_jobs=-1, verbose=1, scoring='f1_macro', cv=2)\n",
        "\n",
        "grid_search.fit(tfidf_train_features, train_labels)\n",
        "\n",
        "print(\"Best score: %0.3f\" % grid_search.best_score_)\n",
        "print(\"Best parameters set:\")\n",
        "best_parameters = grid_search.best_estimator_.get_params()\n",
        "print(best_parameters['C'])\n",
        "\n"
      ],
      "execution_count": 0,
      "outputs": [
        {
          "output_type": "stream",
          "text": [
            "Fitting 2 folds for each of 9 candidates, totalling 18 fits\n"
          ],
          "name": "stdout"
        },
        {
          "output_type": "stream",
          "text": [
            "[Parallel(n_jobs=-1)]: Using backend LokyBackend with 2 concurrent workers.\n",
            "[Parallel(n_jobs=-1)]: Done  18 out of  18 | elapsed:   27.0s finished\n"
          ],
          "name": "stderr"
        },
        {
          "output_type": "stream",
          "text": [
            "Best score: 0.463\n",
            "Best parameters set:\n",
            "100000\n"
          ],
          "name": "stdout"
        }
      ]
    },
    {
      "cell_type": "code",
      "metadata": {
        "id": "0JRWLlJpDIii",
        "colab_type": "code",
        "outputId": "f977e764-4ad8-4259-9d14-04b56d213f94",
        "colab": {
          "base_uri": "https://localhost:8080/",
          "height": 170
        }
      },
      "source": [
        "from sklearn.metrics import log_loss\n",
        "\n",
        "lr_tfidf = LogisticRegression(solver='saga',C=100000)\n",
        "log_loss_sum_1 = []\n",
        "for i in [None, 100, 1000, 3000, 5000, 10000, 15000, 30000, 50000]:\n",
        "  prediction_pipeline_tfidf = Pipeline([\n",
        "          ('union', FeatureUnion(\n",
        "            transformer_list=[\n",
        "              ('text', Pipeline([\n",
        "                ('selector', ItemSelector(key='title')),\n",
        "                ('tf_idf', TfidfVectorizer(tokenizer=tokenize_normalize, binary=True, max_features = i)), \n",
        "                ])),\n",
        "              ('all_posts_bodies', Pipeline([\n",
        "                ('selector', ItemSelector(key='all_posts_bodies')),\n",
        "                ('tf_idf', TfidfVectorizer(tokenizer=tokenize_normalize, binary=True, max_features = i)), \n",
        "                ])),\n",
        "              ('all_posts_ids', Pipeline([\n",
        "                ('selector', ItemSelector(key='all_posts_ids')),\n",
        "                ('tf_idf', TfidfVectorizer(tokenizer=tokenize_normalize, binary=True, max_features = i)), \n",
        "                ])),\n",
        "          ])\n",
        "          )\n",
        "          \n",
        "      ])\n",
        "  \n",
        "  tfidf_train_features = prediction_pipeline_tfidf.fit_transform(train_threads)\n",
        "  tfidf_validation_features = prediction_pipeline_tfidf.transform(validation_threads)\n",
        "  tfidf_test_features = prediction_pipeline_tfidf.transform(test_threads)\n",
        "\n",
        "  lr_tfidf.fit(tfidf_train_features, train_labels)\n",
        "  print(\"For max_features = \",i,\"Score is\",lr_tfidf.score(tfidf_validation_features, validation_labels))"
      ],
      "execution_count": 0,
      "outputs": [
        {
          "output_type": "stream",
          "text": [
            "For max_features =  None Score is 0.6335616438356164\n",
            "For max_features =  100 Score is 0.3458904109589041\n",
            "For max_features =  1000 Score is 0.6027397260273972\n",
            "For max_features =  3000 Score is 0.6267123287671232\n",
            "For max_features =  5000 Score is 0.6575342465753424\n",
            "For max_features =  10000 Score is 0.6301369863013698\n",
            "For max_features =  15000 Score is 0.6335616438356164\n",
            "For max_features =  30000 Score is 0.6301369863013698\n",
            "For max_features =  50000 Score is 0.6438356164383562\n"
          ],
          "name": "stdout"
        }
      ]
    },
    {
      "cell_type": "code",
      "metadata": {
        "id": "M1LVOMv4NQb0",
        "colab_type": "code",
        "outputId": "2432a098-9714-49bc-e712-cfeac96c2b4b",
        "colab": {
          "base_uri": "https://localhost:8080/",
          "height": 51
        }
      },
      "source": [
        "for i in [True, False]:\n",
        "  prediction_pipeline_tfidf = Pipeline([\n",
        "          ('union', FeatureUnion(\n",
        "            transformer_list=[\n",
        "              ('text', Pipeline([\n",
        "                ('selector', ItemSelector(key='title')),\n",
        "                ('tf_idf', TfidfVectorizer(tokenizer=tokenize_normalize, binary=True, max_features =  5000, sublinear_tf=i)), \n",
        "                ])),\n",
        "              ('all_posts_bodies', Pipeline([\n",
        "                ('selector', ItemSelector(key='all_posts_bodies')),\n",
        "                ('tf_idf', TfidfVectorizer(tokenizer=tokenize_normalize, binary=True, max_features =  5000,sublinear_tf=i)), \n",
        "                ])),\n",
        "              ('all_posts_ids', Pipeline([\n",
        "                ('selector', ItemSelector(key='all_posts_ids')),\n",
        "                ('tf_idf', TfidfVectorizer(tokenizer=tokenize_normalize, binary=True, max_features =  5000,sublinear_tf=i)), \n",
        "                ])),\n",
        "          ])\n",
        "          )\n",
        "          \n",
        "      ])\n",
        "  \n",
        "  tfidf_train_features = prediction_pipeline_tfidf.fit_transform(train_threads)\n",
        "  tfidf_validation_features = prediction_pipeline_tfidf.transform(validation_threads)\n",
        "  tfidf_test_features = prediction_pipeline_tfidf.transform(test_threads)\n",
        "\n",
        "  lr_tfidf.fit(tfidf_train_features, train_labels)\n",
        "  print(\"For max_features =  5000, sublinear_tf = \",i,\"Score is\",lr_tfidf.score(tfidf_validation_features, validation_labels))"
      ],
      "execution_count": 0,
      "outputs": [
        {
          "output_type": "stream",
          "text": [
            "For max_features =  5000, sublinear_tf =  True Score is 0.6404109589041096\n",
            "For max_features =  5000, sublinear_tf =  False Score is 0.6438356164383562\n"
          ],
          "name": "stdout"
        }
      ]
    },
    {
      "cell_type": "code",
      "metadata": {
        "id": "FL7OpLL3RSmV",
        "colab_type": "code",
        "outputId": "11b81b87-214c-458d-e384-c413ee47db68",
        "colab": {
          "base_uri": "https://localhost:8080/",
          "height": 68
        }
      },
      "source": [
        "for i in [None,'l1','l2']:\n",
        "  prediction_pipeline_tfidf = Pipeline([\n",
        "          ('union', FeatureUnion(\n",
        "            transformer_list=[\n",
        "              ('text', Pipeline([\n",
        "                ('selector', ItemSelector(key='title')),\n",
        "                ('tf_idf', TfidfVectorizer(tokenizer=tokenize_normalize, binary=True, max_features =  10000, sublinear_tf=False, norm = i)), \n",
        "                ])),\n",
        "              ('all_posts_bodies', Pipeline([\n",
        "                ('selector', ItemSelector(key='all_posts_bodies')),\n",
        "                ('tf_idf', TfidfVectorizer(tokenizer=tokenize_normalize, binary=True, max_features =  10000,sublinear_tf=False, norm = i)), \n",
        "                ])),\n",
        "              ('all_posts_ids', Pipeline([\n",
        "                ('selector', ItemSelector(key='all_posts_ids')),\n",
        "                ('tf_idf', TfidfVectorizer(tokenizer=tokenize_normalize, binary=True, max_features =  10000,sublinear_tf=False, norm = i)), \n",
        "                ])),\n",
        "          ])\n",
        "          )\n",
        "          \n",
        "      ])\n",
        "  \n",
        "  tfidf_train_features = prediction_pipeline_tfidf.fit_transform(train_threads)\n",
        "  tfidf_validation_features = prediction_pipeline_tfidf.transform(validation_threads)\n",
        "  tfidf_test_features = prediction_pipeline_tfidf.transform(test_threads)\n",
        "\n",
        "  lr_tfidf.fit(tfidf_train_features, train_labels)\n",
        "  print(\"For max_features =  5000, sublinear_tf = False, norm = \",i,\"Score is\",lr_tfidf.score(tfidf_validation_features, validation_labels))"
      ],
      "execution_count": 0,
      "outputs": [
        {
          "output_type": "stream",
          "text": [
            "For max_features =  5000, sublinear_tf = False, norm =  None Score is 0.6438356164383562\n",
            "For max_features =  5000, sublinear_tf = False, norm =  l1 Score is 0.5034246575342466\n",
            "For max_features =  5000, sublinear_tf = False, norm =  l2 Score is 0.636986301369863\n"
          ],
          "name": "stdout"
        }
      ]
    },
    {
      "cell_type": "code",
      "metadata": {
        "id": "0MT292fyPdQd",
        "colab_type": "code",
        "outputId": "98ddf89c-13e5-445f-f76a-2ae27ac2dd16",
        "colab": {
          "base_uri": "https://localhost:8080/",
          "height": 102
        }
      },
      "source": [
        "prediction_pipeline_tfidf = Pipeline([\n",
        "        ('union', FeatureUnion(\n",
        "          transformer_list=[\n",
        "            ('text', Pipeline([\n",
        "              ('selector', ItemSelector(key='title')),\n",
        "              ('tf_idf', TfidfVectorizer(tokenizer=tokenize_normalize, binary=True, max_features =  15000, sublinear_tf=False, norm = None)), \n",
        "              ])),\n",
        "            ('all_posts_bodies', Pipeline([\n",
        "              ('selector', ItemSelector(key='all_posts_bodies')),\n",
        "              ('tf_idf', TfidfVectorizer(tokenizer=tokenize_normalize, binary=True, max_features =  15000, sublinear_tf=False, norm = None)), \n",
        "              ])),\n",
        "            ('all_posts_ids', Pipeline([\n",
        "              ('selector', ItemSelector(key='all_posts_ids')),\n",
        "              ('tf_idf', TfidfVectorizer(tokenizer=tokenize_normalize, binary=True, max_features =  15000, sublinear_tf=False, norm = None)), \n",
        "              ])),\n",
        "        ])\n",
        "        )\n",
        "        \n",
        "    ])\n",
        "\n",
        "tfidf_train_features = prediction_pipeline_tfidf.fit_transform(train_threads)\n",
        "tfidf_validation_features = prediction_pipeline_tfidf.transform(validation_threads)\n",
        "tfidf_test_features = prediction_pipeline_tfidf.transform(test_threads)\n",
        "\n",
        "lr_tfidf = LogisticRegression(solver='saga',C=100000)\n",
        "lr_tfidf.fit(tfidf_train_features, train_labels)\n",
        "predict_labels_test = lr_tfidf.predict(tfidf_test_features)\n",
        "\n",
        "a = score_summary(\"LR TF-IDF\",predict_labels_test, test_labels)\n",
        "print(\"Summary on test set\")\n",
        "print(tabulate([a],headers=[\"Acc\",\"Marco Precision\", \"Recall\", \"F1\"]))"
      ],
      "execution_count": 2,
      "outputs": [
        {
          "output_type": "stream",
          "text": [
            "Evaluating LR TF-IDF\n",
            "Summary on test set\n",
            "             Acc    Marco Precision    Recall     F1\n",
            "---------  -----  -----------------  --------  -----\n",
            "LR TF-IDF   69.7              0.557     0.758  0.629\n"
          ],
          "name": "stdout"
        }
      ]
    },
    {
      "cell_type": "markdown",
      "metadata": {
        "id": "NFz2_CSSs16Y",
        "colab_type": "text"
      },
      "source": [
        "Plot a beautiful confusion matrix"
      ]
    },
    {
      "cell_type": "code",
      "metadata": {
        "id": "EzUo-VJ6paxb",
        "colab_type": "code",
        "outputId": "a0078b75-7826-46b4-87da-463133869aae",
        "colab": {
          "base_uri": "https://localhost:8080/",
          "height": 1000
        }
      },
      "source": [
        "import matplotlib.pyplot as plt\n",
        "import numpy as np\n",
        "import seaborn as sns\n",
        "\n",
        "cf = confusion_matrix(test_labels, predict_labels_test, labels = test_labels)\n",
        "cf = pd.DataFrame(cf,index=test_labels,columns=test_labels)\n",
        "cf = cf.groupby(by=cf.columns, axis=1).sum()\n",
        "cf = cf.groupby(by=cf.index, axis=0).sum()\n",
        "\n",
        "plt.figure(figsize=(15,15))\n",
        "ax = sns.heatmap(cf,annot=True,cmap='YlGn')\n",
        "ax.xaxis.tick_top()\n",
        "ax.xaxis.set_label_position('top') \n",
        "plt.xticks(rotation=90)\n"
      ],
      "execution_count": 0,
      "outputs": [
        {
          "output_type": "execute_result",
          "data": {
            "text/plain": [
              "(array([ 0.5,  1.5,  2.5,  3.5,  4.5,  5.5,  6.5,  7.5,  8.5,  9.5, 10.5,\n",
              "        11.5, 12.5, 13.5, 14.5, 15.5, 16.5, 17.5, 18.5, 19.5]),\n",
              " <a list of 20 Text xticklabel objects>)"
            ]
          },
          "metadata": {
            "tags": []
          },
          "execution_count": 65
        },
        {
          "output_type": "display_data",
          "data": {
            "image/png": "[encoded data removed]",
            "text/plain": [
              "<Figure size 1080x1080 with 2 Axes>"
            ]
          },
          "metadata": {
            "tags": []
          }
        }
      ]
    },
    {
      "cell_type": "markdown",
      "metadata": {
        "id": "fYXUCaX62Wf-",
        "colab_type": "text"
      },
      "source": [
        "## Q3"
      ]
    },
    {
      "cell_type": "markdown",
      "metadata": {
        "id": "BRkZqI4E7MKP",
        "colab_type": "text"
      },
      "source": [
        "New features: post depth & is self post"
      ]
    },
    {
      "cell_type": "code",
      "metadata": {
        "id": "qrgi_gpe2fgk",
        "colab_type": "code",
        "colab": {}
      },
      "source": [
        "a = np.array(train_threads['all_posts_depths'])\n",
        "b = np.array(test_threads['all_posts_depths'])\n",
        "x_1 = []\n",
        "x_2 = []\n",
        "for i in a:\n",
        "  # print(i)\n",
        "  x_1.append(sum(i))\n",
        "\n",
        "for i in b:\n",
        "  # print(i)\n",
        "  x_2.append(sum(i))\n",
        "\n",
        "train_threads['all_posts_depths_sum'] = x_1\n",
        "test_threads['all_posts_depths_sum'] = x_2\n",
        "\n",
        "# train_threads['is_self_post']\n",
        "# test_threads['is_self_post']"
      ],
      "execution_count": 0,
      "outputs": []
    },
    {
      "cell_type": "code",
      "metadata": {
        "id": "ZGvOY_jK2acZ",
        "colab_type": "code",
        "colab": {}
      },
      "source": [
        "prediction_pipeline_tfidf = Pipeline([\n",
        "        ('union', FeatureUnion(\n",
        "          transformer_list=[\n",
        "            ('text', Pipeline([\n",
        "              ('selector', ItemSelector(key='title')),\n",
        "              ('tf_idf', TfidfVectorizer(tokenizer=tokenize_normalize, binary=True, max_features =  5000, sublinear_tf=False, norm = None)), \n",
        "              ])),\n",
        "            ('all_posts_bodies', Pipeline([\n",
        "              ('selector', ItemSelector(key='all_posts_bodies')),\n",
        "              ('tf_idf', TfidfVectorizer(tokenizer=tokenize_normalize, binary=True, max_features =  5000, sublinear_tf=False, norm = None)), \n",
        "              ])),\n",
        "            ('all_posts_ids', Pipeline([\n",
        "              ('selector', ItemSelector(key='all_posts_ids')),\n",
        "              ('tf_idf', TfidfVectorizer(tokenizer=tokenize_normalize, binary=True, max_features =  5000, sublinear_tf=False, norm = None)), \n",
        "              ])),\n",
        "        ])\n",
        "        )\n",
        "        \n",
        "    ])\n",
        "\n",
        "tfidf_train_features = prediction_pipeline_tfidf.fit_transform(train_threads)\n",
        "tfidf_test_features = prediction_pipeline_tfidf.transform(test_threads)"
      ],
      "execution_count": 0,
      "outputs": []
    },
    {
      "cell_type": "code",
      "metadata": {
        "id": "D_D9Jh3sMck0",
        "colab_type": "code",
        "outputId": "20b664e7-6062-483b-8b6a-6111e7a5f593",
        "colab": {
          "base_uri": "https://localhost:8080/",
          "height": 439
        }
      },
      "source": [
        "tfidf_train_features_P2 = pd.concat([pd.DataFrame.sparse.from_spmatrix(tfidf_train_features),train_threads['all_posts_depths_sum'],train_threads['is_self_post']],axis = 1)\n",
        "tfidf_test_features_P2 = pd.concat([pd.DataFrame.sparse.from_spmatrix(tfidf_test_features),test_threads['all_posts_depths_sum'],test_threads['is_self_post']],axis=1)\n",
        "tfidf_train_features_P2.rename(columns={'all_posts_depths_sum':'8318','is_self_post':'8319'})\n",
        "tfidf_test_features_P2.rename(columns={'all_posts_depths_sum':'8318','is_self_post':'8319'})\n",
        "tfidf_train_features_P2.fillna(0)\n",
        "tfidf_test_features_P2.fillna(0)"
      ],
      "execution_count": 0,
      "outputs": [
        {
          "output_type": "execute_result",
          "data": {
            "text/html": [
              "<div>\n",
              "<style scoped>\n",
              "    .dataframe tbody tr th:only-of-type {\n",
              "        vertical-align: middle;\n",
              "    }\n",
              "\n",
              "    .dataframe tbody tr th {\n",
              "        vertical-align: top;\n",
              "    }\n",
              "\n",
              "    .dataframe thead th {\n",
              "        text-align: right;\n",
              "    }\n",
              "</style>\n",
              "<table border=\"1\" class=\"dataframe\">\n",
              "  <thead>\n",
              "    <tr style=\"text-align: right;\">\n",
              "      <th></th>\n",
              "      <th>0</th>\n",
              "      <th>1</th>\n",
              "      <th>2</th>\n",
              "      <th>3</th>\n",
              "      <th>4</th>\n",
              "      <th>5</th>\n",
              "      <th>6</th>\n",
              "      <th>7</th>\n",
              "      <th>8</th>\n",
              "      <th>9</th>\n",
              "      <th>10</th>\n",
              "      <th>11</th>\n",
              "      <th>12</th>\n",
              "      <th>13</th>\n",
              "      <th>14</th>\n",
              "      <th>15</th>\n",
              "      <th>16</th>\n",
              "      <th>17</th>\n",
              "      <th>18</th>\n",
              "      <th>19</th>\n",
              "      <th>20</th>\n",
              "      <th>21</th>\n",
              "      <th>22</th>\n",
              "      <th>23</th>\n",
              "      <th>24</th>\n",
              "      <th>25</th>\n",
              "      <th>26</th>\n",
              "      <th>27</th>\n",
              "      <th>28</th>\n",
              "      <th>29</th>\n",
              "      <th>30</th>\n",
              "      <th>31</th>\n",
              "      <th>32</th>\n",
              "      <th>33</th>\n",
              "      <th>34</th>\n",
              "      <th>35</th>\n",
              "      <th>36</th>\n",
              "      <th>37</th>\n",
              "      <th>38</th>\n",
              "      <th>39</th>\n",
              "      <th>...</th>\n",
              "      <th>8280</th>\n",
              "      <th>8281</th>\n",
              "      <th>8282</th>\n",
              "      <th>8283</th>\n",
              "      <th>8284</th>\n",
              "      <th>8285</th>\n",
              "      <th>8286</th>\n",
              "      <th>8287</th>\n",
              "      <th>8288</th>\n",
              "      <th>8289</th>\n",
              "      <th>8290</th>\n",
              "      <th>8291</th>\n",
              "      <th>8292</th>\n",
              "      <th>8293</th>\n",
              "      <th>8294</th>\n",
              "      <th>8295</th>\n",
              "      <th>8296</th>\n",
              "      <th>8297</th>\n",
              "      <th>8298</th>\n",
              "      <th>8299</th>\n",
              "      <th>8300</th>\n",
              "      <th>8301</th>\n",
              "      <th>8302</th>\n",
              "      <th>8303</th>\n",
              "      <th>8304</th>\n",
              "      <th>8305</th>\n",
              "      <th>8306</th>\n",
              "      <th>8307</th>\n",
              "      <th>8308</th>\n",
              "      <th>8309</th>\n",
              "      <th>8310</th>\n",
              "      <th>8311</th>\n",
              "      <th>8312</th>\n",
              "      <th>8313</th>\n",
              "      <th>8314</th>\n",
              "      <th>8315</th>\n",
              "      <th>8316</th>\n",
              "      <th>8317</th>\n",
              "      <th>all_posts_depths_sum</th>\n",
              "      <th>is_self_post</th>\n",
              "    </tr>\n",
              "  </thead>\n",
              "  <tbody>\n",
              "    <tr>\n",
              "      <th>0</th>\n",
              "      <td>0.0</td>\n",
              "      <td>0.0</td>\n",
              "      <td>0.0</td>\n",
              "      <td>0.0</td>\n",
              "      <td>0.0</td>\n",
              "      <td>0.0</td>\n",
              "      <td>0.0</td>\n",
              "      <td>0.0</td>\n",
              "      <td>6.674182</td>\n",
              "      <td>0.0</td>\n",
              "      <td>0.0</td>\n",
              "      <td>0.0</td>\n",
              "      <td>0.0</td>\n",
              "      <td>0.0</td>\n",
              "      <td>0.0</td>\n",
              "      <td>0.0</td>\n",
              "      <td>0.0</td>\n",
              "      <td>0.0</td>\n",
              "      <td>0.0</td>\n",
              "      <td>0.0</td>\n",
              "      <td>0.0</td>\n",
              "      <td>0.0</td>\n",
              "      <td>0.0</td>\n",
              "      <td>0.0</td>\n",
              "      <td>0.0</td>\n",
              "      <td>0.0</td>\n",
              "      <td>0.0</td>\n",
              "      <td>0.0</td>\n",
              "      <td>0.0</td>\n",
              "      <td>0.0</td>\n",
              "      <td>0.0</td>\n",
              "      <td>0.0</td>\n",
              "      <td>0.0</td>\n",
              "      <td>0.0</td>\n",
              "      <td>0.0</td>\n",
              "      <td>0.0</td>\n",
              "      <td>0.0</td>\n",
              "      <td>0.0</td>\n",
              "      <td>0.0</td>\n",
              "      <td>0.0</td>\n",
              "      <td>...</td>\n",
              "      <td>0.0</td>\n",
              "      <td>0.0</td>\n",
              "      <td>0.0</td>\n",
              "      <td>0.000000</td>\n",
              "      <td>0.0</td>\n",
              "      <td>0.000000</td>\n",
              "      <td>0.0</td>\n",
              "      <td>0.0</td>\n",
              "      <td>0.0</td>\n",
              "      <td>0.0</td>\n",
              "      <td>0.000000</td>\n",
              "      <td>0.0</td>\n",
              "      <td>0.000000</td>\n",
              "      <td>0.000000</td>\n",
              "      <td>0.0</td>\n",
              "      <td>0.00000</td>\n",
              "      <td>0.0</td>\n",
              "      <td>0.0</td>\n",
              "      <td>0.0</td>\n",
              "      <td>0.000000</td>\n",
              "      <td>0.0</td>\n",
              "      <td>0.0</td>\n",
              "      <td>0.0</td>\n",
              "      <td>0.0</td>\n",
              "      <td>0.0</td>\n",
              "      <td>0.0</td>\n",
              "      <td>0.0</td>\n",
              "      <td>0.0</td>\n",
              "      <td>0.0</td>\n",
              "      <td>0.0</td>\n",
              "      <td>0.0</td>\n",
              "      <td>0.0</td>\n",
              "      <td>0.0</td>\n",
              "      <td>0.0</td>\n",
              "      <td>0.0</td>\n",
              "      <td>0.0</td>\n",
              "      <td>0.0</td>\n",
              "      <td>0.0</td>\n",
              "      <td>3</td>\n",
              "      <td>1.0</td>\n",
              "    </tr>\n",
              "    <tr>\n",
              "      <th>1</th>\n",
              "      <td>0.0</td>\n",
              "      <td>0.0</td>\n",
              "      <td>0.0</td>\n",
              "      <td>0.0</td>\n",
              "      <td>0.0</td>\n",
              "      <td>0.0</td>\n",
              "      <td>0.0</td>\n",
              "      <td>0.0</td>\n",
              "      <td>0.000000</td>\n",
              "      <td>0.0</td>\n",
              "      <td>0.0</td>\n",
              "      <td>0.0</td>\n",
              "      <td>0.0</td>\n",
              "      <td>0.0</td>\n",
              "      <td>0.0</td>\n",
              "      <td>0.0</td>\n",
              "      <td>0.0</td>\n",
              "      <td>0.0</td>\n",
              "      <td>0.0</td>\n",
              "      <td>0.0</td>\n",
              "      <td>0.0</td>\n",
              "      <td>0.0</td>\n",
              "      <td>0.0</td>\n",
              "      <td>0.0</td>\n",
              "      <td>0.0</td>\n",
              "      <td>0.0</td>\n",
              "      <td>0.0</td>\n",
              "      <td>0.0</td>\n",
              "      <td>0.0</td>\n",
              "      <td>0.0</td>\n",
              "      <td>0.0</td>\n",
              "      <td>0.0</td>\n",
              "      <td>0.0</td>\n",
              "      <td>0.0</td>\n",
              "      <td>0.0</td>\n",
              "      <td>0.0</td>\n",
              "      <td>0.0</td>\n",
              "      <td>0.0</td>\n",
              "      <td>0.0</td>\n",
              "      <td>0.0</td>\n",
              "      <td>...</td>\n",
              "      <td>0.0</td>\n",
              "      <td>0.0</td>\n",
              "      <td>0.0</td>\n",
              "      <td>0.000000</td>\n",
              "      <td>0.0</td>\n",
              "      <td>3.208446</td>\n",
              "      <td>0.0</td>\n",
              "      <td>0.0</td>\n",
              "      <td>0.0</td>\n",
              "      <td>0.0</td>\n",
              "      <td>1.189385</td>\n",
              "      <td>0.0</td>\n",
              "      <td>0.000000</td>\n",
              "      <td>1.642111</td>\n",
              "      <td>0.0</td>\n",
              "      <td>0.00000</td>\n",
              "      <td>0.0</td>\n",
              "      <td>0.0</td>\n",
              "      <td>0.0</td>\n",
              "      <td>0.000000</td>\n",
              "      <td>0.0</td>\n",
              "      <td>0.0</td>\n",
              "      <td>0.0</td>\n",
              "      <td>0.0</td>\n",
              "      <td>0.0</td>\n",
              "      <td>0.0</td>\n",
              "      <td>0.0</td>\n",
              "      <td>0.0</td>\n",
              "      <td>0.0</td>\n",
              "      <td>0.0</td>\n",
              "      <td>0.0</td>\n",
              "      <td>0.0</td>\n",
              "      <td>0.0</td>\n",
              "      <td>0.0</td>\n",
              "      <td>0.0</td>\n",
              "      <td>0.0</td>\n",
              "      <td>0.0</td>\n",
              "      <td>0.0</td>\n",
              "      <td>41</td>\n",
              "      <td>1.0</td>\n",
              "    </tr>\n",
              "    <tr>\n",
              "      <th>2</th>\n",
              "      <td>0.0</td>\n",
              "      <td>0.0</td>\n",
              "      <td>0.0</td>\n",
              "      <td>0.0</td>\n",
              "      <td>0.0</td>\n",
              "      <td>0.0</td>\n",
              "      <td>0.0</td>\n",
              "      <td>0.0</td>\n",
              "      <td>0.000000</td>\n",
              "      <td>0.0</td>\n",
              "      <td>0.0</td>\n",
              "      <td>0.0</td>\n",
              "      <td>0.0</td>\n",
              "      <td>0.0</td>\n",
              "      <td>0.0</td>\n",
              "      <td>0.0</td>\n",
              "      <td>0.0</td>\n",
              "      <td>0.0</td>\n",
              "      <td>0.0</td>\n",
              "      <td>0.0</td>\n",
              "      <td>0.0</td>\n",
              "      <td>0.0</td>\n",
              "      <td>0.0</td>\n",
              "      <td>0.0</td>\n",
              "      <td>0.0</td>\n",
              "      <td>0.0</td>\n",
              "      <td>0.0</td>\n",
              "      <td>0.0</td>\n",
              "      <td>0.0</td>\n",
              "      <td>0.0</td>\n",
              "      <td>0.0</td>\n",
              "      <td>0.0</td>\n",
              "      <td>0.0</td>\n",
              "      <td>0.0</td>\n",
              "      <td>0.0</td>\n",
              "      <td>0.0</td>\n",
              "      <td>0.0</td>\n",
              "      <td>0.0</td>\n",
              "      <td>0.0</td>\n",
              "      <td>0.0</td>\n",
              "      <td>...</td>\n",
              "      <td>0.0</td>\n",
              "      <td>0.0</td>\n",
              "      <td>0.0</td>\n",
              "      <td>0.000000</td>\n",
              "      <td>0.0</td>\n",
              "      <td>0.000000</td>\n",
              "      <td>0.0</td>\n",
              "      <td>0.0</td>\n",
              "      <td>0.0</td>\n",
              "      <td>0.0</td>\n",
              "      <td>1.189385</td>\n",
              "      <td>0.0</td>\n",
              "      <td>0.000000</td>\n",
              "      <td>1.642111</td>\n",
              "      <td>0.0</td>\n",
              "      <td>0.00000</td>\n",
              "      <td>0.0</td>\n",
              "      <td>0.0</td>\n",
              "      <td>0.0</td>\n",
              "      <td>0.000000</td>\n",
              "      <td>0.0</td>\n",
              "      <td>0.0</td>\n",
              "      <td>0.0</td>\n",
              "      <td>0.0</td>\n",
              "      <td>0.0</td>\n",
              "      <td>0.0</td>\n",
              "      <td>0.0</td>\n",
              "      <td>0.0</td>\n",
              "      <td>0.0</td>\n",
              "      <td>0.0</td>\n",
              "      <td>0.0</td>\n",
              "      <td>0.0</td>\n",
              "      <td>0.0</td>\n",
              "      <td>0.0</td>\n",
              "      <td>0.0</td>\n",
              "      <td>0.0</td>\n",
              "      <td>0.0</td>\n",
              "      <td>0.0</td>\n",
              "      <td>7</td>\n",
              "      <td>1.0</td>\n",
              "    </tr>\n",
              "    <tr>\n",
              "      <th>3</th>\n",
              "      <td>0.0</td>\n",
              "      <td>0.0</td>\n",
              "      <td>0.0</td>\n",
              "      <td>0.0</td>\n",
              "      <td>0.0</td>\n",
              "      <td>0.0</td>\n",
              "      <td>0.0</td>\n",
              "      <td>0.0</td>\n",
              "      <td>0.000000</td>\n",
              "      <td>0.0</td>\n",
              "      <td>0.0</td>\n",
              "      <td>0.0</td>\n",
              "      <td>0.0</td>\n",
              "      <td>0.0</td>\n",
              "      <td>0.0</td>\n",
              "      <td>0.0</td>\n",
              "      <td>0.0</td>\n",
              "      <td>0.0</td>\n",
              "      <td>0.0</td>\n",
              "      <td>0.0</td>\n",
              "      <td>0.0</td>\n",
              "      <td>0.0</td>\n",
              "      <td>0.0</td>\n",
              "      <td>0.0</td>\n",
              "      <td>0.0</td>\n",
              "      <td>0.0</td>\n",
              "      <td>0.0</td>\n",
              "      <td>0.0</td>\n",
              "      <td>0.0</td>\n",
              "      <td>0.0</td>\n",
              "      <td>0.0</td>\n",
              "      <td>0.0</td>\n",
              "      <td>0.0</td>\n",
              "      <td>0.0</td>\n",
              "      <td>0.0</td>\n",
              "      <td>0.0</td>\n",
              "      <td>0.0</td>\n",
              "      <td>0.0</td>\n",
              "      <td>0.0</td>\n",
              "      <td>0.0</td>\n",
              "      <td>...</td>\n",
              "      <td>0.0</td>\n",
              "      <td>0.0</td>\n",
              "      <td>0.0</td>\n",
              "      <td>3.281353</td>\n",
              "      <td>0.0</td>\n",
              "      <td>0.000000</td>\n",
              "      <td>0.0</td>\n",
              "      <td>0.0</td>\n",
              "      <td>0.0</td>\n",
              "      <td>0.0</td>\n",
              "      <td>1.189385</td>\n",
              "      <td>0.0</td>\n",
              "      <td>0.000000</td>\n",
              "      <td>0.000000</td>\n",
              "      <td>0.0</td>\n",
              "      <td>0.00000</td>\n",
              "      <td>0.0</td>\n",
              "      <td>0.0</td>\n",
              "      <td>0.0</td>\n",
              "      <td>0.000000</td>\n",
              "      <td>0.0</td>\n",
              "      <td>0.0</td>\n",
              "      <td>0.0</td>\n",
              "      <td>0.0</td>\n",
              "      <td>0.0</td>\n",
              "      <td>0.0</td>\n",
              "      <td>0.0</td>\n",
              "      <td>0.0</td>\n",
              "      <td>0.0</td>\n",
              "      <td>0.0</td>\n",
              "      <td>0.0</td>\n",
              "      <td>0.0</td>\n",
              "      <td>0.0</td>\n",
              "      <td>0.0</td>\n",
              "      <td>0.0</td>\n",
              "      <td>0.0</td>\n",
              "      <td>0.0</td>\n",
              "      <td>0.0</td>\n",
              "      <td>10</td>\n",
              "      <td>1.0</td>\n",
              "    </tr>\n",
              "    <tr>\n",
              "      <th>4</th>\n",
              "      <td>0.0</td>\n",
              "      <td>0.0</td>\n",
              "      <td>0.0</td>\n",
              "      <td>0.0</td>\n",
              "      <td>0.0</td>\n",
              "      <td>0.0</td>\n",
              "      <td>0.0</td>\n",
              "      <td>0.0</td>\n",
              "      <td>0.000000</td>\n",
              "      <td>0.0</td>\n",
              "      <td>0.0</td>\n",
              "      <td>0.0</td>\n",
              "      <td>0.0</td>\n",
              "      <td>0.0</td>\n",
              "      <td>0.0</td>\n",
              "      <td>0.0</td>\n",
              "      <td>0.0</td>\n",
              "      <td>0.0</td>\n",
              "      <td>0.0</td>\n",
              "      <td>0.0</td>\n",
              "      <td>0.0</td>\n",
              "      <td>0.0</td>\n",
              "      <td>0.0</td>\n",
              "      <td>0.0</td>\n",
              "      <td>0.0</td>\n",
              "      <td>0.0</td>\n",
              "      <td>0.0</td>\n",
              "      <td>0.0</td>\n",
              "      <td>0.0</td>\n",
              "      <td>0.0</td>\n",
              "      <td>0.0</td>\n",
              "      <td>0.0</td>\n",
              "      <td>0.0</td>\n",
              "      <td>0.0</td>\n",
              "      <td>0.0</td>\n",
              "      <td>0.0</td>\n",
              "      <td>0.0</td>\n",
              "      <td>0.0</td>\n",
              "      <td>0.0</td>\n",
              "      <td>0.0</td>\n",
              "      <td>...</td>\n",
              "      <td>0.0</td>\n",
              "      <td>0.0</td>\n",
              "      <td>0.0</td>\n",
              "      <td>0.000000</td>\n",
              "      <td>0.0</td>\n",
              "      <td>0.000000</td>\n",
              "      <td>0.0</td>\n",
              "      <td>0.0</td>\n",
              "      <td>0.0</td>\n",
              "      <td>0.0</td>\n",
              "      <td>1.189385</td>\n",
              "      <td>0.0</td>\n",
              "      <td>5.287888</td>\n",
              "      <td>1.642111</td>\n",
              "      <td>0.0</td>\n",
              "      <td>0.00000</td>\n",
              "      <td>0.0</td>\n",
              "      <td>0.0</td>\n",
              "      <td>0.0</td>\n",
              "      <td>0.000000</td>\n",
              "      <td>0.0</td>\n",
              "      <td>0.0</td>\n",
              "      <td>0.0</td>\n",
              "      <td>0.0</td>\n",
              "      <td>0.0</td>\n",
              "      <td>0.0</td>\n",
              "      <td>0.0</td>\n",
              "      <td>0.0</td>\n",
              "      <td>0.0</td>\n",
              "      <td>0.0</td>\n",
              "      <td>0.0</td>\n",
              "      <td>0.0</td>\n",
              "      <td>0.0</td>\n",
              "      <td>0.0</td>\n",
              "      <td>0.0</td>\n",
              "      <td>0.0</td>\n",
              "      <td>0.0</td>\n",
              "      <td>0.0</td>\n",
              "      <td>7</td>\n",
              "      <td>1.0</td>\n",
              "    </tr>\n",
              "    <tr>\n",
              "      <th>...</th>\n",
              "      <td>...</td>\n",
              "      <td>...</td>\n",
              "      <td>...</td>\n",
              "      <td>...</td>\n",
              "      <td>...</td>\n",
              "      <td>...</td>\n",
              "      <td>...</td>\n",
              "      <td>...</td>\n",
              "      <td>...</td>\n",
              "      <td>...</td>\n",
              "      <td>...</td>\n",
              "      <td>...</td>\n",
              "      <td>...</td>\n",
              "      <td>...</td>\n",
              "      <td>...</td>\n",
              "      <td>...</td>\n",
              "      <td>...</td>\n",
              "      <td>...</td>\n",
              "      <td>...</td>\n",
              "      <td>...</td>\n",
              "      <td>...</td>\n",
              "      <td>...</td>\n",
              "      <td>...</td>\n",
              "      <td>...</td>\n",
              "      <td>...</td>\n",
              "      <td>...</td>\n",
              "      <td>...</td>\n",
              "      <td>...</td>\n",
              "      <td>...</td>\n",
              "      <td>...</td>\n",
              "      <td>...</td>\n",
              "      <td>...</td>\n",
              "      <td>...</td>\n",
              "      <td>...</td>\n",
              "      <td>...</td>\n",
              "      <td>...</td>\n",
              "      <td>...</td>\n",
              "      <td>...</td>\n",
              "      <td>...</td>\n",
              "      <td>...</td>\n",
              "      <td>...</td>\n",
              "      <td>...</td>\n",
              "      <td>...</td>\n",
              "      <td>...</td>\n",
              "      <td>...</td>\n",
              "      <td>...</td>\n",
              "      <td>...</td>\n",
              "      <td>...</td>\n",
              "      <td>...</td>\n",
              "      <td>...</td>\n",
              "      <td>...</td>\n",
              "      <td>...</td>\n",
              "      <td>...</td>\n",
              "      <td>...</td>\n",
              "      <td>...</td>\n",
              "      <td>...</td>\n",
              "      <td>...</td>\n",
              "      <td>...</td>\n",
              "      <td>...</td>\n",
              "      <td>...</td>\n",
              "      <td>...</td>\n",
              "      <td>...</td>\n",
              "      <td>...</td>\n",
              "      <td>...</td>\n",
              "      <td>...</td>\n",
              "      <td>...</td>\n",
              "      <td>...</td>\n",
              "      <td>...</td>\n",
              "      <td>...</td>\n",
              "      <td>...</td>\n",
              "      <td>...</td>\n",
              "      <td>...</td>\n",
              "      <td>...</td>\n",
              "      <td>...</td>\n",
              "      <td>...</td>\n",
              "      <td>...</td>\n",
              "      <td>...</td>\n",
              "      <td>...</td>\n",
              "      <td>...</td>\n",
              "      <td>...</td>\n",
              "      <td>...</td>\n",
              "    </tr>\n",
              "    <tr>\n",
              "      <th>360</th>\n",
              "      <td>0.0</td>\n",
              "      <td>0.0</td>\n",
              "      <td>0.0</td>\n",
              "      <td>0.0</td>\n",
              "      <td>0.0</td>\n",
              "      <td>0.0</td>\n",
              "      <td>0.0</td>\n",
              "      <td>0.0</td>\n",
              "      <td>0.000000</td>\n",
              "      <td>0.0</td>\n",
              "      <td>0.0</td>\n",
              "      <td>0.0</td>\n",
              "      <td>0.0</td>\n",
              "      <td>0.0</td>\n",
              "      <td>0.0</td>\n",
              "      <td>0.0</td>\n",
              "      <td>0.0</td>\n",
              "      <td>0.0</td>\n",
              "      <td>0.0</td>\n",
              "      <td>0.0</td>\n",
              "      <td>0.0</td>\n",
              "      <td>0.0</td>\n",
              "      <td>0.0</td>\n",
              "      <td>0.0</td>\n",
              "      <td>0.0</td>\n",
              "      <td>0.0</td>\n",
              "      <td>0.0</td>\n",
              "      <td>0.0</td>\n",
              "      <td>0.0</td>\n",
              "      <td>0.0</td>\n",
              "      <td>0.0</td>\n",
              "      <td>0.0</td>\n",
              "      <td>0.0</td>\n",
              "      <td>0.0</td>\n",
              "      <td>0.0</td>\n",
              "      <td>0.0</td>\n",
              "      <td>0.0</td>\n",
              "      <td>0.0</td>\n",
              "      <td>0.0</td>\n",
              "      <td>0.0</td>\n",
              "      <td>...</td>\n",
              "      <td>0.0</td>\n",
              "      <td>0.0</td>\n",
              "      <td>0.0</td>\n",
              "      <td>0.000000</td>\n",
              "      <td>0.0</td>\n",
              "      <td>0.000000</td>\n",
              "      <td>0.0</td>\n",
              "      <td>0.0</td>\n",
              "      <td>0.0</td>\n",
              "      <td>0.0</td>\n",
              "      <td>1.189385</td>\n",
              "      <td>0.0</td>\n",
              "      <td>0.000000</td>\n",
              "      <td>1.642111</td>\n",
              "      <td>0.0</td>\n",
              "      <td>3.58314</td>\n",
              "      <td>0.0</td>\n",
              "      <td>0.0</td>\n",
              "      <td>0.0</td>\n",
              "      <td>5.495527</td>\n",
              "      <td>0.0</td>\n",
              "      <td>0.0</td>\n",
              "      <td>0.0</td>\n",
              "      <td>0.0</td>\n",
              "      <td>0.0</td>\n",
              "      <td>0.0</td>\n",
              "      <td>0.0</td>\n",
              "      <td>0.0</td>\n",
              "      <td>0.0</td>\n",
              "      <td>0.0</td>\n",
              "      <td>0.0</td>\n",
              "      <td>0.0</td>\n",
              "      <td>0.0</td>\n",
              "      <td>0.0</td>\n",
              "      <td>0.0</td>\n",
              "      <td>0.0</td>\n",
              "      <td>0.0</td>\n",
              "      <td>0.0</td>\n",
              "      <td>37</td>\n",
              "      <td>1.0</td>\n",
              "    </tr>\n",
              "    <tr>\n",
              "      <th>361</th>\n",
              "      <td>0.0</td>\n",
              "      <td>0.0</td>\n",
              "      <td>0.0</td>\n",
              "      <td>0.0</td>\n",
              "      <td>0.0</td>\n",
              "      <td>0.0</td>\n",
              "      <td>0.0</td>\n",
              "      <td>0.0</td>\n",
              "      <td>0.000000</td>\n",
              "      <td>0.0</td>\n",
              "      <td>0.0</td>\n",
              "      <td>0.0</td>\n",
              "      <td>0.0</td>\n",
              "      <td>0.0</td>\n",
              "      <td>0.0</td>\n",
              "      <td>0.0</td>\n",
              "      <td>0.0</td>\n",
              "      <td>0.0</td>\n",
              "      <td>0.0</td>\n",
              "      <td>0.0</td>\n",
              "      <td>0.0</td>\n",
              "      <td>0.0</td>\n",
              "      <td>0.0</td>\n",
              "      <td>0.0</td>\n",
              "      <td>0.0</td>\n",
              "      <td>0.0</td>\n",
              "      <td>0.0</td>\n",
              "      <td>0.0</td>\n",
              "      <td>0.0</td>\n",
              "      <td>0.0</td>\n",
              "      <td>0.0</td>\n",
              "      <td>0.0</td>\n",
              "      <td>0.0</td>\n",
              "      <td>0.0</td>\n",
              "      <td>0.0</td>\n",
              "      <td>0.0</td>\n",
              "      <td>0.0</td>\n",
              "      <td>0.0</td>\n",
              "      <td>0.0</td>\n",
              "      <td>0.0</td>\n",
              "      <td>...</td>\n",
              "      <td>0.0</td>\n",
              "      <td>0.0</td>\n",
              "      <td>0.0</td>\n",
              "      <td>0.000000</td>\n",
              "      <td>0.0</td>\n",
              "      <td>0.000000</td>\n",
              "      <td>0.0</td>\n",
              "      <td>0.0</td>\n",
              "      <td>0.0</td>\n",
              "      <td>0.0</td>\n",
              "      <td>1.189385</td>\n",
              "      <td>0.0</td>\n",
              "      <td>0.000000</td>\n",
              "      <td>1.642111</td>\n",
              "      <td>0.0</td>\n",
              "      <td>0.00000</td>\n",
              "      <td>0.0</td>\n",
              "      <td>0.0</td>\n",
              "      <td>0.0</td>\n",
              "      <td>0.000000</td>\n",
              "      <td>0.0</td>\n",
              "      <td>0.0</td>\n",
              "      <td>0.0</td>\n",
              "      <td>0.0</td>\n",
              "      <td>0.0</td>\n",
              "      <td>0.0</td>\n",
              "      <td>0.0</td>\n",
              "      <td>0.0</td>\n",
              "      <td>0.0</td>\n",
              "      <td>0.0</td>\n",
              "      <td>0.0</td>\n",
              "      <td>0.0</td>\n",
              "      <td>0.0</td>\n",
              "      <td>0.0</td>\n",
              "      <td>0.0</td>\n",
              "      <td>0.0</td>\n",
              "      <td>0.0</td>\n",
              "      <td>0.0</td>\n",
              "      <td>2</td>\n",
              "      <td>1.0</td>\n",
              "    </tr>\n",
              "    <tr>\n",
              "      <th>362</th>\n",
              "      <td>0.0</td>\n",
              "      <td>0.0</td>\n",
              "      <td>0.0</td>\n",
              "      <td>0.0</td>\n",
              "      <td>0.0</td>\n",
              "      <td>0.0</td>\n",
              "      <td>0.0</td>\n",
              "      <td>0.0</td>\n",
              "      <td>0.000000</td>\n",
              "      <td>0.0</td>\n",
              "      <td>0.0</td>\n",
              "      <td>0.0</td>\n",
              "      <td>0.0</td>\n",
              "      <td>0.0</td>\n",
              "      <td>0.0</td>\n",
              "      <td>0.0</td>\n",
              "      <td>0.0</td>\n",
              "      <td>0.0</td>\n",
              "      <td>0.0</td>\n",
              "      <td>0.0</td>\n",
              "      <td>0.0</td>\n",
              "      <td>0.0</td>\n",
              "      <td>0.0</td>\n",
              "      <td>0.0</td>\n",
              "      <td>0.0</td>\n",
              "      <td>0.0</td>\n",
              "      <td>0.0</td>\n",
              "      <td>0.0</td>\n",
              "      <td>0.0</td>\n",
              "      <td>0.0</td>\n",
              "      <td>0.0</td>\n",
              "      <td>0.0</td>\n",
              "      <td>0.0</td>\n",
              "      <td>0.0</td>\n",
              "      <td>0.0</td>\n",
              "      <td>0.0</td>\n",
              "      <td>0.0</td>\n",
              "      <td>0.0</td>\n",
              "      <td>0.0</td>\n",
              "      <td>0.0</td>\n",
              "      <td>...</td>\n",
              "      <td>0.0</td>\n",
              "      <td>0.0</td>\n",
              "      <td>0.0</td>\n",
              "      <td>0.000000</td>\n",
              "      <td>0.0</td>\n",
              "      <td>0.000000</td>\n",
              "      <td>0.0</td>\n",
              "      <td>0.0</td>\n",
              "      <td>0.0</td>\n",
              "      <td>0.0</td>\n",
              "      <td>1.189385</td>\n",
              "      <td>0.0</td>\n",
              "      <td>0.000000</td>\n",
              "      <td>0.000000</td>\n",
              "      <td>0.0</td>\n",
              "      <td>0.00000</td>\n",
              "      <td>0.0</td>\n",
              "      <td>0.0</td>\n",
              "      <td>0.0</td>\n",
              "      <td>0.000000</td>\n",
              "      <td>0.0</td>\n",
              "      <td>0.0</td>\n",
              "      <td>0.0</td>\n",
              "      <td>0.0</td>\n",
              "      <td>0.0</td>\n",
              "      <td>0.0</td>\n",
              "      <td>0.0</td>\n",
              "      <td>0.0</td>\n",
              "      <td>0.0</td>\n",
              "      <td>0.0</td>\n",
              "      <td>0.0</td>\n",
              "      <td>0.0</td>\n",
              "      <td>0.0</td>\n",
              "      <td>0.0</td>\n",
              "      <td>0.0</td>\n",
              "      <td>0.0</td>\n",
              "      <td>0.0</td>\n",
              "      <td>0.0</td>\n",
              "      <td>18</td>\n",
              "      <td>1.0</td>\n",
              "    </tr>\n",
              "    <tr>\n",
              "      <th>363</th>\n",
              "      <td>0.0</td>\n",
              "      <td>0.0</td>\n",
              "      <td>0.0</td>\n",
              "      <td>0.0</td>\n",
              "      <td>0.0</td>\n",
              "      <td>0.0</td>\n",
              "      <td>0.0</td>\n",
              "      <td>0.0</td>\n",
              "      <td>0.000000</td>\n",
              "      <td>0.0</td>\n",
              "      <td>0.0</td>\n",
              "      <td>0.0</td>\n",
              "      <td>0.0</td>\n",
              "      <td>0.0</td>\n",
              "      <td>0.0</td>\n",
              "      <td>0.0</td>\n",
              "      <td>0.0</td>\n",
              "      <td>0.0</td>\n",
              "      <td>0.0</td>\n",
              "      <td>0.0</td>\n",
              "      <td>0.0</td>\n",
              "      <td>0.0</td>\n",
              "      <td>0.0</td>\n",
              "      <td>0.0</td>\n",
              "      <td>0.0</td>\n",
              "      <td>0.0</td>\n",
              "      <td>0.0</td>\n",
              "      <td>0.0</td>\n",
              "      <td>0.0</td>\n",
              "      <td>0.0</td>\n",
              "      <td>0.0</td>\n",
              "      <td>0.0</td>\n",
              "      <td>0.0</td>\n",
              "      <td>0.0</td>\n",
              "      <td>0.0</td>\n",
              "      <td>0.0</td>\n",
              "      <td>0.0</td>\n",
              "      <td>0.0</td>\n",
              "      <td>0.0</td>\n",
              "      <td>0.0</td>\n",
              "      <td>...</td>\n",
              "      <td>0.0</td>\n",
              "      <td>0.0</td>\n",
              "      <td>0.0</td>\n",
              "      <td>0.000000</td>\n",
              "      <td>0.0</td>\n",
              "      <td>3.208446</td>\n",
              "      <td>0.0</td>\n",
              "      <td>0.0</td>\n",
              "      <td>0.0</td>\n",
              "      <td>0.0</td>\n",
              "      <td>1.189385</td>\n",
              "      <td>0.0</td>\n",
              "      <td>0.000000</td>\n",
              "      <td>1.642111</td>\n",
              "      <td>0.0</td>\n",
              "      <td>0.00000</td>\n",
              "      <td>0.0</td>\n",
              "      <td>0.0</td>\n",
              "      <td>0.0</td>\n",
              "      <td>0.000000</td>\n",
              "      <td>0.0</td>\n",
              "      <td>0.0</td>\n",
              "      <td>0.0</td>\n",
              "      <td>0.0</td>\n",
              "      <td>0.0</td>\n",
              "      <td>0.0</td>\n",
              "      <td>0.0</td>\n",
              "      <td>0.0</td>\n",
              "      <td>0.0</td>\n",
              "      <td>0.0</td>\n",
              "      <td>0.0</td>\n",
              "      <td>0.0</td>\n",
              "      <td>0.0</td>\n",
              "      <td>0.0</td>\n",
              "      <td>0.0</td>\n",
              "      <td>0.0</td>\n",
              "      <td>0.0</td>\n",
              "      <td>0.0</td>\n",
              "      <td>31</td>\n",
              "      <td>1.0</td>\n",
              "    </tr>\n",
              "    <tr>\n",
              "      <th>364</th>\n",
              "      <td>0.0</td>\n",
              "      <td>0.0</td>\n",
              "      <td>0.0</td>\n",
              "      <td>0.0</td>\n",
              "      <td>0.0</td>\n",
              "      <td>0.0</td>\n",
              "      <td>0.0</td>\n",
              "      <td>0.0</td>\n",
              "      <td>0.000000</td>\n",
              "      <td>0.0</td>\n",
              "      <td>0.0</td>\n",
              "      <td>0.0</td>\n",
              "      <td>0.0</td>\n",
              "      <td>0.0</td>\n",
              "      <td>0.0</td>\n",
              "      <td>0.0</td>\n",
              "      <td>0.0</td>\n",
              "      <td>0.0</td>\n",
              "      <td>0.0</td>\n",
              "      <td>0.0</td>\n",
              "      <td>0.0</td>\n",
              "      <td>0.0</td>\n",
              "      <td>0.0</td>\n",
              "      <td>0.0</td>\n",
              "      <td>0.0</td>\n",
              "      <td>0.0</td>\n",
              "      <td>0.0</td>\n",
              "      <td>0.0</td>\n",
              "      <td>0.0</td>\n",
              "      <td>0.0</td>\n",
              "      <td>0.0</td>\n",
              "      <td>0.0</td>\n",
              "      <td>0.0</td>\n",
              "      <td>0.0</td>\n",
              "      <td>0.0</td>\n",
              "      <td>0.0</td>\n",
              "      <td>0.0</td>\n",
              "      <td>0.0</td>\n",
              "      <td>0.0</td>\n",
              "      <td>0.0</td>\n",
              "      <td>...</td>\n",
              "      <td>0.0</td>\n",
              "      <td>0.0</td>\n",
              "      <td>0.0</td>\n",
              "      <td>0.000000</td>\n",
              "      <td>0.0</td>\n",
              "      <td>0.000000</td>\n",
              "      <td>0.0</td>\n",
              "      <td>0.0</td>\n",
              "      <td>0.0</td>\n",
              "      <td>0.0</td>\n",
              "      <td>1.189385</td>\n",
              "      <td>0.0</td>\n",
              "      <td>0.000000</td>\n",
              "      <td>0.000000</td>\n",
              "      <td>0.0</td>\n",
              "      <td>0.00000</td>\n",
              "      <td>0.0</td>\n",
              "      <td>0.0</td>\n",
              "      <td>0.0</td>\n",
              "      <td>0.000000</td>\n",
              "      <td>0.0</td>\n",
              "      <td>0.0</td>\n",
              "      <td>0.0</td>\n",
              "      <td>0.0</td>\n",
              "      <td>0.0</td>\n",
              "      <td>0.0</td>\n",
              "      <td>0.0</td>\n",
              "      <td>0.0</td>\n",
              "      <td>0.0</td>\n",
              "      <td>0.0</td>\n",
              "      <td>0.0</td>\n",
              "      <td>0.0</td>\n",
              "      <td>0.0</td>\n",
              "      <td>0.0</td>\n",
              "      <td>0.0</td>\n",
              "      <td>0.0</td>\n",
              "      <td>0.0</td>\n",
              "      <td>0.0</td>\n",
              "      <td>12</td>\n",
              "      <td>1.0</td>\n",
              "    </tr>\n",
              "  </tbody>\n",
              "</table>\n",
              "<p>365 rows × 8320 columns</p>\n",
              "</div>"
            ],
            "text/plain": [
              "       0    1    2    3  ...  8316  8317  all_posts_depths_sum  is_self_post\n",
              "0    0.0  0.0  0.0  0.0  ...   0.0   0.0                     3           1.0\n",
              "1    0.0  0.0  0.0  0.0  ...   0.0   0.0                    41           1.0\n",
              "2    0.0  0.0  0.0  0.0  ...   0.0   0.0                     7           1.0\n",
              "3    0.0  0.0  0.0  0.0  ...   0.0   0.0                    10           1.0\n",
              "4    0.0  0.0  0.0  0.0  ...   0.0   0.0                     7           1.0\n",
              "..   ...  ...  ...  ...  ...   ...   ...                   ...           ...\n",
              "360  0.0  0.0  0.0  0.0  ...   0.0   0.0                    37           1.0\n",
              "361  0.0  0.0  0.0  0.0  ...   0.0   0.0                     2           1.0\n",
              "362  0.0  0.0  0.0  0.0  ...   0.0   0.0                    18           1.0\n",
              "363  0.0  0.0  0.0  0.0  ...   0.0   0.0                    31           1.0\n",
              "364  0.0  0.0  0.0  0.0  ...   0.0   0.0                    12           1.0\n",
              "\n",
              "[365 rows x 8320 columns]"
            ]
          },
          "metadata": {
            "tags": []
          },
          "execution_count": 145
        }
      ]
    },
    {
      "cell_type": "code",
      "metadata": {
        "id": "wbCwrzG2CxVh",
        "colab_type": "code",
        "outputId": "6993ebeb-d9e9-4442-d611-4bcfcf52cd01",
        "colab": {
          "base_uri": "https://localhost:8080/",
          "height": 102
        }
      },
      "source": [
        "lr_tfidf = LogisticRegression(solver='saga',C=100000)\n",
        "lr_tfidf.fit(tfidf_train_features, train_labels)\n",
        "predict_labels_test = lr_tfidf.predict(tfidf_test_features)\n",
        "\n",
        "a = score_summary(\"LR TF-IDF(plus 2 features)\",predict_labels_test, test_labels)\n",
        "print(\"LR TF-IDF(plus 2 features) summary on test set\")\n",
        "print(tabulate([a],headers=[\"Acc\",\"Marco Precision\", \"Recall\", \"F1\"]))"
      ],
      "execution_count": 7,
      "outputs": [
        {
          "output_type": "stream",
          "text": [
            "Evaluating LR TF-IDF(plus 2 features)\n",
            "LR TF-IDF(plus 2 features) summary on test set\n",
            "                              Acc    Marco Precision    Recall     F1\n",
            "--------------------------  -----  -----------------  --------  -----\n",
            "LR TF-IDF(plus 2 features)  0.701              0.556     0.759  0.653\n"
          ],
          "name": "stdout"
        }
      ]
    },
    {
      "cell_type": "markdown",
      "metadata": {
        "id": "D-G938e8D5qn",
        "colab_type": "text"
      },
      "source": [
        "# Part B: Discourse prediction #"
      ]
    },
    {
      "cell_type": "markdown",
      "metadata": {
        "id": "RCWd6OGw2DGJ",
        "colab_type": "text"
      },
      "source": [
        "## Data preparing ##"
      ]
    },
    {
      "cell_type": "code",
      "metadata": {
        "id": "9KM6aJtSETPY",
        "colab_type": "code",
        "outputId": "20d04060-0d3f-4a39-cf8e-c4a41dd0f221",
        "colab": {
          "base_uri": "https://localhost:8080/",
          "height": 119
        }
      },
      "source": [
        "discourse_train = \"coursework_discourse_train.json\"\n",
        "discourse_test = \"coursework_discourse_test.json\"\n",
        "  \n",
        "!gsutil cp gs://textasdata/coursework/coursework_discourse_train.json $discourse_train  \n",
        "!gsutil cp gs://textasdata/coursework/coursework_discourse_test.json  $discourse_test"
      ],
      "execution_count": 0,
      "outputs": [
        {
          "output_type": "stream",
          "text": [
            "Copying gs://textasdata/coursework/coursework_discourse_train.json...\n",
            "- [1 files][ 60.2 MiB/ 60.2 MiB]                                                \n",
            "Operation completed over 1 objects/60.2 MiB.                                     \n",
            "Copying gs://textasdata/coursework/coursework_discourse_test.json...\n",
            "/ [1 files][ 15.1 MiB/ 15.1 MiB]                                                \n",
            "Operation completed over 1 objects/15.1 MiB.                                     \n"
          ],
          "name": "stdout"
        }
      ]
    },
    {
      "cell_type": "code",
      "metadata": {
        "id": "pwOaf_6aD-Vh",
        "colab_type": "code",
        "colab": {}
      },
      "source": [
        "# The reddit thread structure is nested with posts in a new content.\n",
        "# This block reads the file as json and creates a new data frame.\n",
        "import pandas as pd\n",
        "import json\n",
        "\n",
        "def load_posts(file):\n",
        "  # A temporary variable to store the list of post content.\n",
        "  posts_tmp = list()\n",
        "\n",
        "  with open(file) as jsonfile:\n",
        "    for i, line in enumerate(jsonfile):\n",
        "     # if (i > 2): break\n",
        "      thread = json.loads(line)\n",
        "      for post in thread['posts']:\n",
        "        # NOTE: This should be changed to use additional features from the post or thread.\n",
        "        # DO NOT change the labels for the test set.\n",
        "        posts_tmp.append((thread['subreddit'], thread['title'], thread['url'],\n",
        "                        post['id'], post.get('author', \"\"), post.get('body', \"\"), post.get(\"majority_link\", \"\"), \n",
        "                        post.get('post_depth', 0), post.get('majority_type', \"\"), # discourse type label \n",
        "                        post.get('in_reply_to', \"\") ))\n",
        "\n",
        "# Create the posts data frame.  \n",
        "  labels = ['subreddit', 'title', 'url', 'id', 'author', 'body', 'majority_link', \n",
        "          'post_depth', 'discourse_type', 'in_reply_to']\n",
        "  return pd.DataFrame(posts_tmp, columns=labels)"
      ],
      "execution_count": 0,
      "outputs": []
    },
    {
      "cell_type": "code",
      "metadata": {
        "id": "PDzHTDcmEQ11",
        "colab_type": "code",
        "outputId": "b5183c18-d5fa-4bd5-f77d-0daf8916c677",
        "colab": {
          "base_uri": "https://localhost:8080/",
          "height": 170
        }
      },
      "source": [
        "original_train_posts = load_posts(discourse_train)\n",
        "# Filter out empty labels\n",
        "original_train_posts = original_train_posts[original_train_posts['discourse_type'] != \"\"]\n",
        "print(original_train_posts.head())\n",
        "print(\"Num posts: \", len(original_train_posts))"
      ],
      "execution_count": 0,
      "outputs": [
        {
          "output_type": "stream",
          "text": [
            "    subreddit                           title  ... discourse_type in_reply_to\n",
            "0  worldofpvp  Help me decide my new PvP main  ...       question            \n",
            "1  worldofpvp  Help me decide my new PvP main  ...         answer   t3_2v0anq\n",
            "2  worldofpvp  Help me decide my new PvP main  ...         answer   t3_2v0anq\n",
            "3  worldofpvp  Help me decide my new PvP main  ...         answer   t3_2v0anq\n",
            "4  worldofpvp  Help me decide my new PvP main  ...         answer   t3_2v0anq\n",
            "\n",
            "[5 rows x 10 columns]\n",
            "Num posts:  79267\n"
          ],
          "name": "stdout"
        }
      ]
    },
    {
      "cell_type": "markdown",
      "metadata": {
        "id": "JmIeAX9lFIkp",
        "colab_type": "text"
      },
      "source": [
        "### Development / Validation data ###\n",
        "\n",
        "For part B it is up to you to split the \"original\" training data into a new train/validation (development) dataset appropriately. See Lab 4 for an example. "
      ]
    },
    {
      "cell_type": "code",
      "metadata": {
        "id": "zIauHZBbFuqT",
        "colab_type": "code",
        "outputId": "ab28d509-8d7d-4eca-ec51-0c83cf39e788",
        "colab": {
          "base_uri": "https://localhost:8080/",
          "height": 51
        }
      },
      "source": [
        "from sklearn.model_selection import train_test_split\n",
        "\n",
        "\n",
        "train_dataset_B, validation_dataset_B, train_labels_B, validation_labels_B = train_test_split(original_train_posts, original_train_posts['discourse_type'], test_size=0.25, random_state=1)\n",
        "\n",
        "train_posts = train_dataset_B\n",
        "validation_posts = train_posts.sample(frac=1).iloc[:10000,:]\n",
        "# validation_posts = validation_dataset_B\n",
        "\n",
        "print(\"Num train_posts: \", len(train_posts))\n",
        "print(\"Num validation_posts: \", len(validation_posts))"
      ],
      "execution_count": 0,
      "outputs": [
        {
          "output_type": "stream",
          "text": [
            "Num train_posts:  59450\n",
            "Num validation_posts:  10000\n"
          ],
          "name": "stdout"
        }
      ]
    },
    {
      "cell_type": "markdown",
      "metadata": {
        "id": "oSA0KrvkFmLg",
        "colab_type": "text"
      },
      "source": [
        "### Test data ###"
      ]
    },
    {
      "cell_type": "code",
      "metadata": {
        "id": "7vvo7hfCEmvj",
        "colab_type": "code",
        "colab": {}
      },
      "source": [
        "test_posts = load_posts(discourse_test)\n",
        "# Filter out empty labels\n",
        "test_posts = test_posts[test_posts['discourse_type'] != \"\"]"
      ],
      "execution_count": 0,
      "outputs": []
    },
    {
      "cell_type": "markdown",
      "metadata": {
        "id": "g08g8W1tG_es",
        "colab_type": "text"
      },
      "source": [
        "### Labels ###"
      ]
    },
    {
      "cell_type": "markdown",
      "metadata": {
        "id": "dqGLzyTOGadY",
        "colab_type": "text"
      },
      "source": [
        "The label for the post we will be predicting is in the discourse_type column."
      ]
    },
    {
      "cell_type": "code",
      "metadata": {
        "id": "Jat55HhNHGBp",
        "colab_type": "code",
        "colab": {}
      },
      "source": [
        "train_labels = train_posts['discourse_type']\n",
        "validation_labels = validation_posts['discourse_type']\n",
        "test_labels = test_posts['discourse_type']"
      ],
      "execution_count": 0,
      "outputs": []
    },
    {
      "cell_type": "markdown",
      "metadata": {
        "id": "rFl6sM58HNFp",
        "colab_type": "text"
      },
      "source": [
        "Examine the distribution over labels on the training data."
      ]
    },
    {
      "cell_type": "code",
      "metadata": {
        "id": "n3NbLPBhFOkp",
        "colab_type": "code",
        "outputId": "75f81776-539e-4cd9-fae2-4cc886206dfe",
        "colab": {
          "base_uri": "https://localhost:8080/",
          "height": 357
        }
      },
      "source": [
        "discourse_counts = original_train_posts['discourse_type'].value_counts()\n",
        "print(discourse_counts.describe())\n",
        "\n",
        "top_discourse = discourse_counts.nlargest(20)\n",
        "print(top_discourse)"
      ],
      "execution_count": 0,
      "outputs": [
        {
          "output_type": "stream",
          "text": [
            "count       10.000000\n",
            "mean      7926.700000\n",
            "std       9664.321866\n",
            "min       1266.000000\n",
            "25%       1671.500000\n",
            "50%       3235.500000\n",
            "75%      11919.750000\n",
            "max      31419.000000\n",
            "Name: discourse_type, dtype: float64\n",
            "answer              31419\n",
            "elaboration         14775\n",
            "question            13610\n",
            "appreciation         6849\n",
            "agreement            3868\n",
            "disagreement         2603\n",
            "humor                1787\n",
            "other                1633\n",
            "announcement         1457\n",
            "negativereaction     1266\n",
            "Name: discourse_type, dtype: int64\n"
          ],
          "name": "stdout"
        }
      ]
    },
    {
      "cell_type": "markdown",
      "metadata": {
        "id": "gNUtyDE0U1-J",
        "colab_type": "text"
      },
      "source": [
        "##Q4"
      ]
    },
    {
      "cell_type": "code",
      "metadata": {
        "id": "edi_pfhDHeuY",
        "colab_type": "code",
        "outputId": "62d478df-b34e-4a99-9e9b-e38274e26edf",
        "colab": {
          "base_uri": "https://localhost:8080/",
          "height": 1000
        }
      },
      "source": [
        "train_posts"
      ],
      "execution_count": 0,
      "outputs": [
        {
          "output_type": "execute_result",
          "data": {
            "text/html": [
              "<div>\n",
              "<style scoped>\n",
              "    .dataframe tbody tr th:only-of-type {\n",
              "        vertical-align: middle;\n",
              "    }\n",
              "\n",
              "    .dataframe tbody tr th {\n",
              "        vertical-align: top;\n",
              "    }\n",
              "\n",
              "    .dataframe thead th {\n",
              "        text-align: right;\n",
              "    }\n",
              "</style>\n",
              "<table border=\"1\" class=\"dataframe\">\n",
              "  <thead>\n",
              "    <tr style=\"text-align: right;\">\n",
              "      <th></th>\n",
              "      <th>subreddit</th>\n",
              "      <th>title</th>\n",
              "      <th>url</th>\n",
              "      <th>id</th>\n",
              "      <th>author</th>\n",
              "      <th>body</th>\n",
              "      <th>majority_link</th>\n",
              "      <th>post_depth</th>\n",
              "      <th>discourse_type</th>\n",
              "      <th>in_reply_to</th>\n",
              "    </tr>\n",
              "  </thead>\n",
              "  <tbody>\n",
              "    <tr>\n",
              "      <th>10345</th>\n",
              "      <td>destinythegame</td>\n",
              "      <td>In case you weren't aware, Sealed Ahamkara Gra...</td>\n",
              "      <td>https://www.reddit.com/r/DestinyTheGame/commen...</td>\n",
              "      <td>t1_czgd3bx</td>\n",
              "      <td>DunderMifflinPaper</td>\n",
              "      <td>Yep! I think the sealed grasps have about a 50...</td>\n",
              "      <td>t1_czgd09s</td>\n",
              "      <td>4</td>\n",
              "      <td>answer</td>\n",
              "      <td>t1_czgd09s</td>\n",
              "    </tr>\n",
              "    <tr>\n",
              "      <th>46920</th>\n",
              "      <td>stopdrinking</td>\n",
              "      <td>Six Months.</td>\n",
              "      <td>https://www.reddit.com/r/stopdrinking/comments...</td>\n",
              "      <td>t1_ck9u6cc</td>\n",
              "      <td>ginger_sprout</td>\n",
              "      <td>Here's to SIX MONTHS of waking up sober!! Gett...</td>\n",
              "      <td>t3_2fivlm</td>\n",
              "      <td>1</td>\n",
              "      <td>appreciation</td>\n",
              "      <td>t3_2fivlm</td>\n",
              "    </tr>\n",
              "    <tr>\n",
              "      <th>54069</th>\n",
              "      <td>heroesofthestorm</td>\n",
              "      <td>Zeratul Key Giveaway</td>\n",
              "      <td>https://www.reddit.com/r/heroesofthestorm/comm...</td>\n",
              "      <td>t1_ct0jgqi</td>\n",
              "      <td>Howlf</td>\n",
              "      <td>Ok, a hint, it's BLOODY!</td>\n",
              "      <td>t3_3czy6j</td>\n",
              "      <td>1</td>\n",
              "      <td>elaboration</td>\n",
              "      <td>t3_3czy6j</td>\n",
              "    </tr>\n",
              "    <tr>\n",
              "      <th>18306</th>\n",
              "      <td>leagueoflegends</td>\n",
              "      <td>Diamond Jungler LFT</td>\n",
              "      <td>https://www.reddit.com/r/leagueoflegends/comme...</td>\n",
              "      <td>t1_cactx2q</td>\n",
              "      <td>Respawning</td>\n",
              "      <td>I'm on my phone I can't link. On the side bar ...</td>\n",
              "      <td>t1_cactkmb</td>\n",
              "      <td>3</td>\n",
              "      <td>answer</td>\n",
              "      <td>t1_cactkmb</td>\n",
              "    </tr>\n",
              "    <tr>\n",
              "      <th>42159</th>\n",
              "      <td>writing</td>\n",
              "      <td>21,000 downloads at Amazon in November! It see...</td>\n",
              "      <td>https://www.reddit.com/r/writing/comments/mwyo...</td>\n",
              "      <td>t1_c34iho5</td>\n",
              "      <td>Arkelias</td>\n",
              "      <td>Congratualtions!  This is very encouraging to ...</td>\n",
              "      <td>t3_mwyo7</td>\n",
              "      <td>1</td>\n",
              "      <td>appreciation</td>\n",
              "      <td>t3_mwyo7</td>\n",
              "    </tr>\n",
              "    <tr>\n",
              "      <th>...</th>\n",
              "      <td>...</td>\n",
              "      <td>...</td>\n",
              "      <td>...</td>\n",
              "      <td>...</td>\n",
              "      <td>...</td>\n",
              "      <td>...</td>\n",
              "      <td>...</td>\n",
              "      <td>...</td>\n",
              "      <td>...</td>\n",
              "      <td>...</td>\n",
              "    </tr>\n",
              "    <tr>\n",
              "      <th>23887</th>\n",
              "      <td>oblivion</td>\n",
              "      <td>New to Oblivion (Skyrim was the first ES game ...</td>\n",
              "      <td>https://www.reddit.com/r/oblivion/comments/1qp...</td>\n",
              "      <td>t1_cdht0pp</td>\n",
              "      <td>Alaira314</td>\n",
              "      <td>I'm currently re-playing oblivion with a steal...</td>\n",
              "      <td>t1_cdf25h9</td>\n",
              "      <td>3</td>\n",
              "      <td>elaboration</td>\n",
              "      <td>t1_cdf25h9</td>\n",
              "    </tr>\n",
              "    <tr>\n",
              "      <th>81867</th>\n",
              "      <td>marvelheroes</td>\n",
              "      <td>Deadpool ranged or physical pros and cons</td>\n",
              "      <td>https://www.reddit.com/r/marvelheroes/comments...</td>\n",
              "      <td>t1_d3hp4vm</td>\n",
              "      <td>luti01</td>\n",
              "      <td>Played both, Ranged is better. Damage is almos...</td>\n",
              "      <td>t3_4kkzz6</td>\n",
              "      <td>1</td>\n",
              "      <td>answer</td>\n",
              "      <td>t3_4kkzz6</td>\n",
              "    </tr>\n",
              "    <tr>\n",
              "      <th>55959</th>\n",
              "      <td>japancirclejerk</td>\n",
              "      <td>Our lord and savior fighting the good fight ag...</td>\n",
              "      <td>https://www.reddit.com/r/japancirclejerk/comme...</td>\n",
              "      <td>t1_csrlefv</td>\n",
              "      <td>bulldogdiver</td>\n",
              "      <td>Contrary to what you might have read the bar i...</td>\n",
              "      <td>t1_csrkd6r</td>\n",
              "      <td>2</td>\n",
              "      <td>answer</td>\n",
              "      <td>t1_csrkd6r</td>\n",
              "    </tr>\n",
              "    <tr>\n",
              "      <th>5825</th>\n",
              "      <td>parenting</td>\n",
              "      <td>Anyone else here struggle with postpartum depr...</td>\n",
              "      <td>https://www.reddit.com/r/Parenting/comments/1t...</td>\n",
              "      <td>t1_ce638k1</td>\n",
              "      <td>McMamaFace</td>\n",
              "      <td>Oh wow, that's awesome that your mind/body sna...</td>\n",
              "      <td>t1_ce62duz</td>\n",
              "      <td>2</td>\n",
              "      <td>appreciation</td>\n",
              "      <td>t1_ce62duz</td>\n",
              "    </tr>\n",
              "    <tr>\n",
              "      <th>86721</th>\n",
              "      <td>bloodborne</td>\n",
              "      <td>3 endings, 3 playthroughs, 1 platinum</td>\n",
              "      <td>https://www.reddit.com/r/bloodborne/comments/4...</td>\n",
              "      <td>t1_d1dx5zn</td>\n",
              "      <td>daftvalkyrie</td>\n",
              "      <td>Congrats! I'm on playthrough #2 at the moment....</td>\n",
              "      <td>t3_4c03vs</td>\n",
              "      <td>1</td>\n",
              "      <td>appreciation</td>\n",
              "      <td>t3_4c03vs</td>\n",
              "    </tr>\n",
              "  </tbody>\n",
              "</table>\n",
              "<p>59450 rows × 10 columns</p>\n",
              "</div>"
            ],
            "text/plain": [
              "              subreddit  ... in_reply_to\n",
              "10345    destinythegame  ...  t1_czgd09s\n",
              "46920      stopdrinking  ...   t3_2fivlm\n",
              "54069  heroesofthestorm  ...   t3_3czy6j\n",
              "18306   leagueoflegends  ...  t1_cactkmb\n",
              "42159           writing  ...    t3_mwyo7\n",
              "...                 ...  ...         ...\n",
              "23887          oblivion  ...  t1_cdf25h9\n",
              "81867      marvelheroes  ...   t3_4kkzz6\n",
              "55959   japancirclejerk  ...  t1_csrkd6r\n",
              "5825          parenting  ...  t1_ce62duz\n",
              "86721        bloodborne  ...   t3_4c03vs\n",
              "\n",
              "[59450 rows x 10 columns]"
            ]
          },
          "metadata": {
            "tags": []
          },
          "execution_count": 24
        }
      ]
    },
    {
      "cell_type": "code",
      "metadata": {
        "id": "SXYSZXqeVdtp",
        "colab_type": "code",
        "outputId": "16812189-e44d-471e-daad-ac6d8e4c4109",
        "colab": {
          "base_uri": "https://localhost:8080/",
          "height": 68
        }
      },
      "source": [
        "import time \n",
        "from sklearn.pipeline import FeatureUnion\n",
        "from sklearn.pipeline import Pipeline\n",
        "from sklearn.feature_extraction.text import CountVectorizer\n",
        "from sklearn.feature_extraction.text import TfidfVectorizer\n",
        "\n",
        "prediction_pipeline_tfidf = Pipeline([\n",
        "        ('union', FeatureUnion(\n",
        "          transformer_list=[\n",
        "            ('titles', Pipeline([\n",
        "              ('selector', ItemSelector(key='title')),\n",
        "              ('tf_idf', TfidfVectorizer(tokenizer=tokenize_normalize, binary=True, sublinear_tf=True)), \n",
        "              ])),\n",
        "            ('bodies', Pipeline([\n",
        "              ('selector', ItemSelector(key='body')),\n",
        "              ('tf_idf', TfidfVectorizer(tokenizer=tokenize_normalize, binary=True, sublinear_tf=True)), \n",
        "              ])),\n",
        "            ('authors', Pipeline([\n",
        "              ('selector', ItemSelector(key='author')),\n",
        "              ('tf_idf', TfidfVectorizer(tokenizer=tokenize_normalize, binary=True, sublinear_tf=True)), \n",
        "              ])),\n",
        "        ])\n",
        "        )\n",
        "    ])\n",
        "start = time.time()\n",
        "tfidf_train_features_B = prediction_pipeline_tfidf.fit_transform(train_posts)\n",
        "end = time.time()\n",
        "print(end-start)\n",
        "\n",
        "start = time.time()\n",
        "tfidf_validation_features_B = prediction_pipeline_tfidf.transform(validation_posts)\n",
        "end = time.time()\n",
        "print(end-start)\n",
        "\n",
        "start = time.time()\n",
        "tfidf_test_features_B = prediction_pipeline_tfidf.transform(test_posts)\n",
        "end = time.time()\n",
        "print(end-start)"
      ],
      "execution_count": 0,
      "outputs": [
        {
          "output_type": "stream",
          "text": [
            "1039.010130405426\n",
            "168.446222782135\n",
            "328.2619912624359\n"
          ],
          "name": "stdout"
        }
      ]
    },
    {
      "cell_type": "markdown",
      "metadata": {
        "id": "HlS3UTZnXv6r",
        "colab_type": "text"
      },
      "source": [
        "Baseline dummy model"
      ]
    },
    {
      "cell_type": "code",
      "metadata": {
        "id": "6YkE7evhXvLT",
        "colab_type": "code",
        "outputId": "7fc81c83-5895-44eb-c901-e8a3d179188a",
        "colab": {
          "base_uri": "https://localhost:8080/",
          "height": 102
        }
      },
      "source": [
        "from sklearn.linear_model import LogisticRegression\n",
        "from sklearn.dummy import DummyClassifier\n",
        "\n",
        "dummy_stratified_B = DummyClassifier(strategy='stratified')\n",
        "dummy_stratified_B.fit(tfidf_train_features_B, train_labels)\n",
        "predict_labels_test_B = dummy_stratified_B.predict(tfidf_test_features_B)\n",
        "\n",
        "a = score_summary(\"Dummy model with stratified strategy\",predict_labels_test_B, test_labels)\n",
        "print(\"Dummy model with stratified strategy summary on test set\")\n",
        "print(tabulate([a],headers=[\"Acc\",\"Marco Precision\", \"Recall\", \"F1\"]))"
      ],
      "execution_count": 0,
      "outputs": [
        {
          "output_type": "stream",
          "text": [
            "Evaluating Dummy model with stratified strategy\n",
            "Dummy model with stratified strategy summary on test set\n",
            "                                        Acc    Marco Precision    Recall     F1\n",
            "------------------------------------  -----  -----------------  --------  -----\n",
            "Dummy model with stratified strategy   0.24              0.104     0.104  0.104\n"
          ],
          "name": "stdout"
        }
      ]
    },
    {
      "cell_type": "markdown",
      "metadata": {
        "id": "bnhzFhE0Xvf1",
        "colab_type": "text"
      },
      "source": [
        "Linear regression model"
      ]
    },
    {
      "cell_type": "code",
      "metadata": {
        "id": "Oad-4bWNWVk1",
        "colab_type": "code",
        "outputId": "cca92123-5c3a-45c2-ec79-0b40903e2174",
        "colab": {
          "base_uri": "https://localhost:8080/",
          "height": 102
        }
      },
      "source": [
        "lr_tfidf_B = LogisticRegression(penalty='l2',solver='saga',C=10)\n",
        "lr_tfidf_B.fit(tfidf_train_features_B, train_labels)\n",
        "predict_labels_test_B = lr_tfidf_B.predict(tfidf_test_features_B)\n",
        "\n",
        "a = score_summary(\"LR TF-IDF\",predict_labels_test_B, test_labels)\n",
        "print(\"LR TF-IDF summary on test set\")\n",
        "print(tabulate([a],headers=[\"Acc\",\"Marco Precision\", \"Recall\", \"F1\"]))"
      ],
      "execution_count": 0,
      "outputs": [
        {
          "output_type": "stream",
          "text": [
            "Evaluating LR TF-IDF\n",
            "LR TF-IDF summary on test set\n",
            "             Acc    Marco Precision    Recall     F1\n",
            "---------  -----  -----------------  --------  -----\n",
            "LR TF-IDF  0.474               0.25     0.355  0.271\n"
          ],
          "name": "stdout"
        }
      ]
    },
    {
      "cell_type": "code",
      "metadata": {
        "id": "eA10LcZWgT5L",
        "colab_type": "code",
        "outputId": "b537504a-e413-4dbe-809a-84ce90b92748",
        "colab": {
          "base_uri": "https://localhost:8080/",
          "height": 989
        }
      },
      "source": [
        "import matplotlib.pyplot as plt\n",
        "import numpy as np\n",
        "import seaborn as sns\n",
        "\n",
        "cf_B = confusion_matrix(test_labels, predict_labels_test_B, labels = test_labels)\n",
        "cf_B = pd.DataFrame(cf_B,index=test_labels,columns=test_labels)\n",
        "cf_B = cf_B.groupby(by=cf_B.columns, axis=1).sum()\n",
        "cf_B = cf_B.groupby(by=cf_B.index, axis=0).sum()\n",
        "\n",
        "plt.figure(figsize=(15,15))\n",
        "ax = sns.heatmap(cf_B,annot=True,cmap='YlGn')\n",
        "ax.xaxis.tick_top()\n",
        "ax.xaxis.set_label_position('top') \n",
        "plt.title(\"Confusion metrics on test set\")\n",
        "plt.xticks(rotation=90)\n",
        "plt.xlabel(\"predict_discourse_type\")\n",
        "plt.ylabel(\"actual_discourse_type\")"
      ],
      "execution_count": 0,
      "outputs": [
        {
          "output_type": "execute_result",
          "data": {
            "text/plain": [
              "Text(114.0, 0.5, 'actual_discourse_type')"
            ]
          },
          "metadata": {
            "tags": []
          },
          "execution_count": 28
        },
        {
          "output_type": "display_data",
          "data": {
            "image/png": "[encoded data removed]",
            "text/plain": [
              "<Figure size 1080x1080 with 2 Axes>"
            ]
          },
          "metadata": {
            "tags": []
          }
        }
      ]
    },
    {
      "cell_type": "markdown",
      "metadata": {
        "id": "AY3yI8a0qRNv",
        "colab_type": "text"
      },
      "source": [
        "For each class"
      ]
    },
    {
      "cell_type": "code",
      "metadata": {
        "id": "mMnOiCinllX_",
        "colab_type": "code",
        "colab": {}
      },
      "source": [
        "each_class_sum = []\n",
        "predict_each_class_sum = []\n",
        "for discourse in cf_B:\n",
        "  i = 0\n",
        "  each_class_sum_tmp = []\n",
        "  for tmp in test_labels:\n",
        "    if(tmp == discourse):\n",
        "      each_class_sum_tmp.append(1)\n",
        "    else:\n",
        "      each_class_sum_tmp.append(0)\n",
        "  each_class_sum.append(each_class_sum_tmp)\n",
        "\n",
        "  predict_each_class_sum_tmp = []\n",
        "  for tmp in predict_labels_test_B:\n",
        "    if(tmp == discourse):\n",
        "      predict_each_class_sum_tmp.append(1)\n",
        "    else:\n",
        "      predict_each_class_sum_tmp.append(2)\n",
        "  predict_each_class_sum.append(predict_each_class_sum_tmp)"
      ],
      "execution_count": 0,
      "outputs": []
    },
    {
      "cell_type": "code",
      "metadata": {
        "id": "-KP52jPhqS4t",
        "colab_type": "code",
        "outputId": "66f50665-0f0a-4a76-a456-3e5da992850c",
        "colab": {
          "base_uri": "https://localhost:8080/",
          "height": 546
        }
      },
      "source": [
        "print(\"For each class\")\n",
        "k = 0\n",
        "all_class = []\n",
        "for i in cf_B:\n",
        "  a = score_summary(i,predict_each_class_sum[k], each_class_sum[k])\n",
        "  k += 1\n",
        "  all_class.append(a)\n",
        "\n",
        "pd.DataFrame(all_class,index=cf_B.columns.values,columns=[\"Class_Name\",\"Acc\",\"Marco_Precision\", \"Recall\", \"F1\"])\n",
        "# print(tabulate([all_class],headers=[\"class\",\"Acc\",\"Marco Precision\", \"Recall\", \"F1\"]))"
      ],
      "execution_count": 0,
      "outputs": [
        {
          "output_type": "stream",
          "text": [
            "For each class\n",
            "Evaluating agreement\n",
            "Evaluating announcement\n",
            "Evaluating answer\n",
            "Evaluating appreciation\n",
            "Evaluating disagreement\n",
            "Evaluating elaboration\n",
            "Evaluating humor\n",
            "Evaluating negativereaction\n",
            "Evaluating other\n",
            "Evaluating question\n"
          ],
          "name": "stdout"
        },
        {
          "output_type": "execute_result",
          "data": {
            "text/html": [
              "<div>\n",
              "<style scoped>\n",
              "    .dataframe tbody tr th:only-of-type {\n",
              "        vertical-align: middle;\n",
              "    }\n",
              "\n",
              "    .dataframe tbody tr th {\n",
              "        vertical-align: top;\n",
              "    }\n",
              "\n",
              "    .dataframe thead th {\n",
              "        text-align: right;\n",
              "    }\n",
              "</style>\n",
              "<table border=\"1\" class=\"dataframe\">\n",
              "  <thead>\n",
              "    <tr style=\"text-align: right;\">\n",
              "      <th></th>\n",
              "      <th>Class_Name</th>\n",
              "      <th>Acc</th>\n",
              "      <th>Marco_Precision</th>\n",
              "      <th>Recall</th>\n",
              "      <th>F1</th>\n",
              "    </tr>\n",
              "  </thead>\n",
              "  <tbody>\n",
              "    <tr>\n",
              "      <th>agreement</th>\n",
              "      <td>agreement</td>\n",
              "      <td>0.010</td>\n",
              "      <td>0.069</td>\n",
              "      <td>0.139</td>\n",
              "      <td>0.093</td>\n",
              "    </tr>\n",
              "    <tr>\n",
              "      <th>announcement</th>\n",
              "      <td>announcement</td>\n",
              "      <td>0.002</td>\n",
              "      <td>0.027</td>\n",
              "      <td>0.094</td>\n",
              "      <td>0.042</td>\n",
              "    </tr>\n",
              "    <tr>\n",
              "      <th>answer</th>\n",
              "      <td>answer</td>\n",
              "      <td>0.283</td>\n",
              "      <td>0.236</td>\n",
              "      <td>0.174</td>\n",
              "      <td>0.200</td>\n",
              "    </tr>\n",
              "    <tr>\n",
              "      <th>appreciation</th>\n",
              "      <td>appreciation</td>\n",
              "      <td>0.050</td>\n",
              "      <td>0.192</td>\n",
              "      <td>0.237</td>\n",
              "      <td>0.212</td>\n",
              "    </tr>\n",
              "    <tr>\n",
              "      <th>disagreement</th>\n",
              "      <td>disagreement</td>\n",
              "      <td>0.001</td>\n",
              "      <td>0.015</td>\n",
              "      <td>0.058</td>\n",
              "      <td>0.023</td>\n",
              "    </tr>\n",
              "    <tr>\n",
              "      <th>elaboration</th>\n",
              "      <td>elaboration</td>\n",
              "      <td>0.044</td>\n",
              "      <td>0.081</td>\n",
              "      <td>0.093</td>\n",
              "      <td>0.086</td>\n",
              "    </tr>\n",
              "    <tr>\n",
              "      <th>humor</th>\n",
              "      <td>humor</td>\n",
              "      <td>0.001</td>\n",
              "      <td>0.007</td>\n",
              "      <td>0.062</td>\n",
              "      <td>0.013</td>\n",
              "    </tr>\n",
              "    <tr>\n",
              "      <th>negativereaction</th>\n",
              "      <td>negativereaction</td>\n",
              "      <td>0.001</td>\n",
              "      <td>0.018</td>\n",
              "      <td>0.089</td>\n",
              "      <td>0.031</td>\n",
              "    </tr>\n",
              "    <tr>\n",
              "      <th>other</th>\n",
              "      <td>other</td>\n",
              "      <td>0.002</td>\n",
              "      <td>0.034</td>\n",
              "      <td>0.085</td>\n",
              "      <td>0.048</td>\n",
              "    </tr>\n",
              "    <tr>\n",
              "      <th>question</th>\n",
              "      <td>question</td>\n",
              "      <td>0.080</td>\n",
              "      <td>0.155</td>\n",
              "      <td>0.153</td>\n",
              "      <td>0.154</td>\n",
              "    </tr>\n",
              "  </tbody>\n",
              "</table>\n",
              "</div>"
            ],
            "text/plain": [
              "                        Class_Name    Acc  Marco_Precision  Recall     F1\n",
              "agreement                agreement  0.010            0.069   0.139  0.093\n",
              "announcement          announcement  0.002            0.027   0.094  0.042\n",
              "answer                      answer  0.283            0.236   0.174  0.200\n",
              "appreciation          appreciation  0.050            0.192   0.237  0.212\n",
              "disagreement          disagreement  0.001            0.015   0.058  0.023\n",
              "elaboration            elaboration  0.044            0.081   0.093  0.086\n",
              "humor                        humor  0.001            0.007   0.062  0.013\n",
              "negativereaction  negativereaction  0.001            0.018   0.089  0.031\n",
              "other                        other  0.002            0.034   0.085  0.048\n",
              "question                  question  0.080            0.155   0.153  0.154"
            ]
          },
          "metadata": {
            "tags": []
          },
          "execution_count": 30
        }
      ]
    },
    {
      "cell_type": "markdown",
      "metadata": {
        "id": "bZs0qJxOiKRq",
        "colab_type": "text"
      },
      "source": [
        "performance on validation set"
      ]
    },
    {
      "cell_type": "code",
      "metadata": {
        "id": "qCzZ8Wu-iNlc",
        "colab_type": "code",
        "outputId": "6116280c-16d3-4a69-b11b-f11cf6e3e9f0",
        "colab": {
          "base_uri": "https://localhost:8080/",
          "height": 102
        }
      },
      "source": [
        "predict_labels_validation_B = lr_tfidf_B.predict(tfidf_validation_features_B)\n",
        "\n",
        "a = score_summary(\"LR TF-IDF\",predict_labels_validation_B, validation_labels)\n",
        "print(\"LR TF-IDF summary on validation set\")\n",
        "print(tabulate([a],headers=[\"Acc\",\"Marco Precision\", \"Recall\", \"F1\"]))"
      ],
      "execution_count": 0,
      "outputs": [
        {
          "output_type": "stream",
          "text": [
            "Evaluating LR TF-IDF\n",
            "LR TF-IDF summary on validation set\n",
            "             Acc    Marco Precision    Recall     F1\n",
            "---------  -----  -----------------  --------  -----\n",
            "LR TF-IDF  0.983              0.978     0.989  0.983\n"
          ],
          "name": "stdout"
        }
      ]
    },
    {
      "cell_type": "code",
      "metadata": {
        "id": "5DK_KYcH0If8",
        "colab_type": "code",
        "outputId": "7f768389-8136-437e-faa5-7c935eb81dfb",
        "colab": {
          "base_uri": "https://localhost:8080/",
          "height": 686
        }
      },
      "source": [
        "from sklearn.feature_selection import SelectFromModel\n",
        "from sklearn.feature_selection import RFE\n",
        "\n",
        "\n",
        "print(\"The 20 most important features column indexs and their coef\")\n",
        "pd.DataFrame(pd.DataFrame(lr_tfidf_B.coef_).mean().sort_values(ascending=False)[:20])\n",
        "\n"
      ],
      "execution_count": 0,
      "outputs": [
        {
          "output_type": "stream",
          "text": [
            "The 20 most important features column indexs and their coef\n"
          ],
          "name": "stdout"
        },
        {
          "output_type": "execute_result",
          "data": {
            "text/html": [
              "<div>\n",
              "<style scoped>\n",
              "    .dataframe tbody tr th:only-of-type {\n",
              "        vertical-align: middle;\n",
              "    }\n",
              "\n",
              "    .dataframe tbody tr th {\n",
              "        vertical-align: top;\n",
              "    }\n",
              "\n",
              "    .dataframe thead th {\n",
              "        text-align: right;\n",
              "    }\n",
              "</style>\n",
              "<table border=\"1\" class=\"dataframe\">\n",
              "  <thead>\n",
              "    <tr style=\"text-align: right;\">\n",
              "      <th></th>\n",
              "      <th>0</th>\n",
              "    </tr>\n",
              "  </thead>\n",
              "  <tbody>\n",
              "    <tr>\n",
              "      <th>40270</th>\n",
              "      <td>1.391554e-13</td>\n",
              "    </tr>\n",
              "    <tr>\n",
              "      <th>73085</th>\n",
              "      <td>7.822631e-14</td>\n",
              "    </tr>\n",
              "    <tr>\n",
              "      <th>13148</th>\n",
              "      <td>7.034373e-14</td>\n",
              "    </tr>\n",
              "    <tr>\n",
              "      <th>34991</th>\n",
              "      <td>6.772360e-14</td>\n",
              "    </tr>\n",
              "    <tr>\n",
              "      <th>67331</th>\n",
              "      <td>5.853096e-14</td>\n",
              "    </tr>\n",
              "    <tr>\n",
              "      <th>38454</th>\n",
              "      <td>4.480860e-14</td>\n",
              "    </tr>\n",
              "    <tr>\n",
              "      <th>66421</th>\n",
              "      <td>3.983480e-14</td>\n",
              "    </tr>\n",
              "    <tr>\n",
              "      <th>36672</th>\n",
              "      <td>3.816947e-14</td>\n",
              "    </tr>\n",
              "    <tr>\n",
              "      <th>72938</th>\n",
              "      <td>3.508305e-14</td>\n",
              "    </tr>\n",
              "    <tr>\n",
              "      <th>62475</th>\n",
              "      <td>3.400613e-14</td>\n",
              "    </tr>\n",
              "    <tr>\n",
              "      <th>15958</th>\n",
              "      <td>2.982059e-14</td>\n",
              "    </tr>\n",
              "    <tr>\n",
              "      <th>11850</th>\n",
              "      <td>2.914474e-14</td>\n",
              "    </tr>\n",
              "    <tr>\n",
              "      <th>66415</th>\n",
              "      <td>2.886580e-14</td>\n",
              "    </tr>\n",
              "    <tr>\n",
              "      <th>73105</th>\n",
              "      <td>2.861045e-14</td>\n",
              "    </tr>\n",
              "    <tr>\n",
              "      <th>7377</th>\n",
              "      <td>2.741141e-14</td>\n",
              "    </tr>\n",
              "    <tr>\n",
              "      <th>41111</th>\n",
              "      <td>2.677858e-14</td>\n",
              "    </tr>\n",
              "    <tr>\n",
              "      <th>72996</th>\n",
              "      <td>2.602363e-14</td>\n",
              "    </tr>\n",
              "    <tr>\n",
              "      <th>66540</th>\n",
              "      <td>2.570721e-14</td>\n",
              "    </tr>\n",
              "    <tr>\n",
              "      <th>48369</th>\n",
              "      <td>2.553235e-14</td>\n",
              "    </tr>\n",
              "    <tr>\n",
              "      <th>62233</th>\n",
              "      <td>2.531308e-14</td>\n",
              "    </tr>\n",
              "  </tbody>\n",
              "</table>\n",
              "</div>"
            ],
            "text/plain": [
              "                  0\n",
              "40270  1.391554e-13\n",
              "73085  7.822631e-14\n",
              "13148  7.034373e-14\n",
              "34991  6.772360e-14\n",
              "67331  5.853096e-14\n",
              "38454  4.480860e-14\n",
              "66421  3.983480e-14\n",
              "36672  3.816947e-14\n",
              "72938  3.508305e-14\n",
              "62475  3.400613e-14\n",
              "15958  2.982059e-14\n",
              "11850  2.914474e-14\n",
              "66415  2.886580e-14\n",
              "73105  2.861045e-14\n",
              "7377   2.741141e-14\n",
              "41111  2.677858e-14\n",
              "72996  2.602363e-14\n",
              "66540  2.570721e-14\n",
              "48369  2.553235e-14\n",
              "62233  2.531308e-14"
            ]
          },
          "metadata": {
            "tags": []
          },
          "execution_count": 32
        }
      ]
    },
    {
      "cell_type": "code",
      "metadata": {
        "id": "W_xFxUKD_sS1",
        "colab_type": "code",
        "outputId": "fd7d4edf-df8e-4abb-bcac-6eb1c1141e23",
        "colab": {
          "base_uri": "https://localhost:8080/",
          "height": 359
        }
      },
      "source": [
        "\n",
        "k = 0\n",
        "x_1 = []\n",
        "x_2 = []\n",
        "for i in cf_B:\n",
        "  x_1.append(pd.DataFrame(lr_tfidf_B.coef_).iloc[k].max())\n",
        "  x_2.append(pd.DataFrame(lr_tfidf_B.coef_).iloc[k].idxmax())\n",
        "  k += 1\n",
        "\n",
        "classes_important_features = pd.DataFrame(x_1,index=cf_B.columns.values,columns=['coef_'])\n",
        "classes_important_features['feature_index'] = x_2\n",
        "classes_important_features"
      ],
      "execution_count": 0,
      "outputs": [
        {
          "output_type": "execute_result",
          "data": {
            "text/html": [
              "<div>\n",
              "<style scoped>\n",
              "    .dataframe tbody tr th:only-of-type {\n",
              "        vertical-align: middle;\n",
              "    }\n",
              "\n",
              "    .dataframe tbody tr th {\n",
              "        vertical-align: top;\n",
              "    }\n",
              "\n",
              "    .dataframe thead th {\n",
              "        text-align: right;\n",
              "    }\n",
              "</style>\n",
              "<table border=\"1\" class=\"dataframe\">\n",
              "  <thead>\n",
              "    <tr style=\"text-align: right;\">\n",
              "      <th></th>\n",
              "      <th>coef_</th>\n",
              "      <th>feature_index</th>\n",
              "    </tr>\n",
              "  </thead>\n",
              "  <tbody>\n",
              "    <tr>\n",
              "      <th>agreement</th>\n",
              "      <td>17.352779</td>\n",
              "      <td>14141</td>\n",
              "    </tr>\n",
              "    <tr>\n",
              "      <th>announcement</th>\n",
              "      <td>6.985276</td>\n",
              "      <td>85835</td>\n",
              "    </tr>\n",
              "    <tr>\n",
              "      <th>answer</th>\n",
              "      <td>4.950897</td>\n",
              "      <td>72996</td>\n",
              "    </tr>\n",
              "    <tr>\n",
              "      <th>appreciation</th>\n",
              "      <td>20.455450</td>\n",
              "      <td>66421</td>\n",
              "    </tr>\n",
              "    <tr>\n",
              "      <th>disagreement</th>\n",
              "      <td>9.608753</td>\n",
              "      <td>27286</td>\n",
              "    </tr>\n",
              "    <tr>\n",
              "      <th>elaboration</th>\n",
              "      <td>4.514348</td>\n",
              "      <td>10518</td>\n",
              "    </tr>\n",
              "    <tr>\n",
              "      <th>humor</th>\n",
              "      <td>4.266115</td>\n",
              "      <td>1846</td>\n",
              "    </tr>\n",
              "    <tr>\n",
              "      <th>negativereaction</th>\n",
              "      <td>5.052754</td>\n",
              "      <td>33522</td>\n",
              "    </tr>\n",
              "    <tr>\n",
              "      <th>other</th>\n",
              "      <td>5.385903</td>\n",
              "      <td>4520</td>\n",
              "    </tr>\n",
              "    <tr>\n",
              "      <th>question</th>\n",
              "      <td>9.965799</td>\n",
              "      <td>37899</td>\n",
              "    </tr>\n",
              "  </tbody>\n",
              "</table>\n",
              "</div>"
            ],
            "text/plain": [
              "                      coef_  feature_index\n",
              "agreement         17.352779          14141\n",
              "announcement       6.985276          85835\n",
              "answer             4.950897          72996\n",
              "appreciation      20.455450          66421\n",
              "disagreement       9.608753          27286\n",
              "elaboration        4.514348          10518\n",
              "humor              4.266115           1846\n",
              "negativereaction   5.052754          33522\n",
              "other              5.385903           4520\n",
              "question           9.965799          37899"
            ]
          },
          "metadata": {
            "tags": []
          },
          "execution_count": 33
        }
      ]
    },
    {
      "cell_type": "markdown",
      "metadata": {
        "id": "LSv10TrPGViF",
        "colab_type": "text"
      },
      "source": [
        "## Q5 ##"
      ]
    },
    {
      "cell_type": "markdown",
      "metadata": {
        "id": "B_sqqjumGweo",
        "colab_type": "text"
      },
      "source": [
        "Title, body and author fileds are used\n",
        "New features are: \n",
        "\n",
        "1.   Subreddit \n",
        "2.   A binary feature for whether the current author is also the author of the initial post\n",
        "3.   Post depth\n",
        "4.   Content of previous posts(find from the original_train_posts)\n",
        "5.   Sentiment analysis score of sentences / post (from a sentiment classifier or Vader)\n",
        "\n"
      ]
    },
    {
      "cell_type": "markdown",
      "metadata": {
        "id": "MrW90bx_eMpp",
        "colab_type": "text"
      },
      "source": [
        "### Feature 1 pre-processing ###"
      ]
    },
    {
      "cell_type": "code",
      "metadata": {
        "id": "P6LVjWWheMet",
        "colab_type": "code",
        "outputId": "4a66cc74-c6e9-48e5-f9aa-f0c0f387d172",
        "colab": {
          "base_uri": "https://localhost:8080/",
          "height": 221
        }
      },
      "source": [
        "feature_1 = TfidfVectorizer(tokenizer=tokenize_normalize, max_features=955).fit_transform(train_posts['subreddit'])\n",
        "feature_1_test = TfidfVectorizer(tokenizer=tokenize_normalize, max_features=955).fit_transform(test_posts['subreddit'])\n",
        "train_posts['subreddit']"
      ],
      "execution_count": 0,
      "outputs": [
        {
          "output_type": "execute_result",
          "data": {
            "text/plain": [
              "10345      destinythegame\n",
              "46920        stopdrinking\n",
              "54069    heroesofthestorm\n",
              "18306     leagueoflegends\n",
              "42159             writing\n",
              "               ...       \n",
              "23887            oblivion\n",
              "81867        marvelheroes\n",
              "55959     japancirclejerk\n",
              "5825            parenting\n",
              "86721          bloodborne\n",
              "Name: subreddit, Length: 59450, dtype: object"
            ]
          },
          "metadata": {
            "tags": []
          },
          "execution_count": 34
        }
      ]
    },
    {
      "cell_type": "markdown",
      "metadata": {
        "id": "JY7cCrmLeMKS",
        "colab_type": "text"
      },
      "source": [
        "### Feature 2 pre-processing ###"
      ]
    },
    {
      "cell_type": "code",
      "metadata": {
        "id": "gB2VgAoyeL95",
        "colab_type": "code",
        "outputId": "c3d4414c-2e01-4080-86da-c6f4cd6ccb70",
        "colab": {
          "base_uri": "https://localhost:8080/",
          "height": 221
        }
      },
      "source": [
        "# compare field 'id' and 'majority_link', if the same, then append 1 to it\n",
        "train_posts['original_author_or_not'] = train_posts['id'] == train_posts['majority_link']\n",
        "train_posts['original_author_or_not'] = train_posts['original_author_or_not'].replace(True,1)\n",
        "train_posts['original_author_or_not'] = train_posts['original_author_or_not'].replace(False,0)\n",
        "feature_2 = train_posts['original_author_or_not']\n",
        "\n",
        "test_posts['original_author_or_not'] = test_posts['id'] == test_posts['majority_link']\n",
        "test_posts['original_author_or_not'] = test_posts['original_author_or_not'].replace(True,1)\n",
        "test_posts['original_author_or_not'] = test_posts['original_author_or_not'].replace(False,0)\n",
        "feature_2_test = test_posts['original_author_or_not']\n",
        "\n",
        "train_posts['original_author_or_not']"
      ],
      "execution_count": 0,
      "outputs": [
        {
          "output_type": "execute_result",
          "data": {
            "text/plain": [
              "10345    0.0\n",
              "46920    0.0\n",
              "54069    0.0\n",
              "18306    0.0\n",
              "42159    0.0\n",
              "        ... \n",
              "23887    0.0\n",
              "81867    0.0\n",
              "55959    0.0\n",
              "5825     0.0\n",
              "86721    0.0\n",
              "Name: original_author_or_not, Length: 59450, dtype: float64"
            ]
          },
          "metadata": {
            "tags": []
          },
          "execution_count": 35
        }
      ]
    },
    {
      "cell_type": "markdown",
      "metadata": {
        "id": "GrWvgHVYeLvw",
        "colab_type": "text"
      },
      "source": [
        "### Feature 3 pre-processing ###"
      ]
    },
    {
      "cell_type": "code",
      "metadata": {
        "id": "BIXcZk6leLgW",
        "colab_type": "code",
        "outputId": "f6ee9ff6-aa91-4350-ce66-8cd4182d421a",
        "colab": {
          "base_uri": "https://localhost:8080/",
          "height": 221
        }
      },
      "source": [
        "feature_3 = train_posts['post_depth']\n",
        "feature_3_test = test_posts['post_depth']\n",
        "train_posts['post_depth']"
      ],
      "execution_count": 0,
      "outputs": [
        {
          "output_type": "execute_result",
          "data": {
            "text/plain": [
              "10345    4\n",
              "46920    1\n",
              "54069    1\n",
              "18306    3\n",
              "42159    1\n",
              "        ..\n",
              "23887    3\n",
              "81867    1\n",
              "55959    2\n",
              "5825     2\n",
              "86721    1\n",
              "Name: post_depth, Length: 59450, dtype: int64"
            ]
          },
          "metadata": {
            "tags": []
          },
          "execution_count": 36
        }
      ]
    },
    {
      "cell_type": "markdown",
      "metadata": {
        "id": "isXtbcuZeJyE",
        "colab_type": "text"
      },
      "source": [
        "### Feature 4 pre-processing ###"
      ]
    },
    {
      "cell_type": "code",
      "metadata": {
        "id": "w_XNPEHCd5ZN",
        "colab_type": "code",
        "outputId": "2d153f69-d217-4c78-825e-8eaaf2dd1664",
        "colab": {
          "base_uri": "https://localhost:8080/",
          "height": 221
        }
      },
      "source": [
        "temp_post = []\n",
        "temp_list = original_train_posts.reset_index(drop=False)\n",
        "\n",
        "# Since the training dataset is random, so in order to find the previous post\n",
        "# find the post in the training dataset, and then find it in the original dataset, return its index-1 to find its previous post \n",
        "for post in train_posts.index.values.tolist():\n",
        "  if(post!=0):\n",
        "    temp_post.append(temp_list['body'][int(temp_list.loc[temp_list['index'] == post].index.values) - 1])\n",
        "  else:\n",
        "    temp_post.append('')\n",
        "\n",
        "train_posts['previous_post_body'] = temp_post\n",
        "train_posts['previous_post_body']"
      ],
      "execution_count": 0,
      "outputs": [
        {
          "output_type": "execute_result",
          "data": {
            "text/plain": [
              "10345    Wait, *what?* I joke about this all the time. ...\n",
              "46920                                Congrats on 6 months!\n",
              "54069                                Cromartie High School\n",
              "18306               okay were is that i cant find it sorry\n",
              "42159    I published my book at Amazon in May and by Oc...\n",
              "                               ...                        \n",
              "23887    Just try to enjoy the game. There's going to b...\n",
              "81867    I've had a lot of success with melee character...\n",
              "55959     How did this guy even become a Japanese national\n",
              "5825     I did too. I'm pretty close with my own mom, a...\n",
              "86721    Kill 5 vermin and go there valtr will be gone ...\n",
              "Name: previous_post_body, Length: 59450, dtype: object"
            ]
          },
          "metadata": {
            "tags": []
          },
          "execution_count": 37
        }
      ]
    },
    {
      "cell_type": "code",
      "metadata": {
        "id": "6NMSjaAfWKIQ",
        "colab_type": "code",
        "outputId": "d7e20df0-1238-4b3d-bb58-ea65ff2b3148",
        "colab": {
          "base_uri": "https://localhost:8080/",
          "height": 221
        }
      },
      "source": [
        "temp_post = []\n",
        "temp_list = test_posts.reset_index(drop=False)\n",
        "\n",
        "# For test dataset\n",
        "for post in test_posts.index.values.tolist():\n",
        "  if(post!=0):\n",
        "    temp_post.append(temp_list['body'][int(temp_list.loc[temp_list['index'] == post].index.values) - 1])\n",
        "  else:\n",
        "    temp_post.append('')\n",
        "\n",
        "# any(temp_list.loc[temp_list['index'] == 45].index.values) == False\n",
        "test_posts['previous_post_body'] = temp_post\n",
        "test_posts['previous_post_body']"
      ],
      "execution_count": 0,
      "outputs": [
        {
          "output_type": "execute_result",
          "data": {
            "text/plain": [
              "0                                                         \n",
              "1        Edit: I'm in the Oklahoma City and Tulsa Oklah...\n",
              "2        are you in the USA?  i would say that unless t...\n",
              "3                                                [deleted]\n",
              "4        Great info! It shows that stopping on a highwa...\n",
              "                               ...                        \n",
              "22092                                        Wow, awesome!\n",
              "22093    I find the habit of removing requests on here ...\n",
              "22094    Perhaps I should have made a comment that \"wor...\n",
              "22095               This is absolutely amazing! Well done!\n",
              "22096    You are very kind. Thanks very much. Appears O...\n",
              "Name: previous_post_body, Length: 19812, dtype: object"
            ]
          },
          "metadata": {
            "tags": []
          },
          "execution_count": 38
        }
      ]
    },
    {
      "cell_type": "code",
      "metadata": {
        "id": "zEXn_Ung7pnF",
        "colab_type": "code",
        "outputId": "ecd09e1f-3a32-4b30-d24f-4090a49b3379",
        "colab": {
          "base_uri": "https://localhost:8080/",
          "height": 34
        }
      },
      "source": [
        "from sklearn.feature_extraction.text import TfidfVectorizer\n",
        "import time \n",
        "\n",
        "start = time.time()\n",
        "feature_4 = TfidfVectorizer(tokenizer=tokenize_normalize, max_features=34163).fit_transform(train_posts['previous_post_body'])\n",
        "print(time.time() - start)"
      ],
      "execution_count": 0,
      "outputs": [
        {
          "output_type": "stream",
          "text": [
            "489.32326912879944\n"
          ],
          "name": "stdout"
        }
      ]
    },
    {
      "cell_type": "code",
      "metadata": {
        "id": "6OfzHYG7WCn4",
        "colab_type": "code",
        "outputId": "250b6df4-74d0-4e5c-d986-3f5581428b53",
        "colab": {
          "base_uri": "https://localhost:8080/",
          "height": 34
        }
      },
      "source": [
        "start = time.time()\n",
        "feature_4_test = TfidfVectorizer(tokenizer=tokenize_normalize, max_features=34163).fit_transform(test_posts['previous_post_body'])\n",
        "print(time.time() - start)"
      ],
      "execution_count": 0,
      "outputs": [
        {
          "output_type": "stream",
          "text": [
            "168.74183797836304\n"
          ],
          "name": "stdout"
        }
      ]
    },
    {
      "cell_type": "markdown",
      "metadata": {
        "id": "moM85XMGd7P7",
        "colab_type": "text"
      },
      "source": [
        "### Feature 5 pre-processing ###"
      ]
    },
    {
      "cell_type": "code",
      "metadata": {
        "id": "85bWQX_mUC1_",
        "colab_type": "code",
        "outputId": "7c57b8c9-9d45-47a9-e4f9-faf821e6d0bf",
        "colab": {
          "base_uri": "https://localhost:8080/",
          "height": 122
        }
      },
      "source": [
        "!pip install vaderSentiment"
      ],
      "execution_count": 0,
      "outputs": [
        {
          "output_type": "stream",
          "text": [
            "Collecting vaderSentiment\n",
            "\u001b[?25l  Downloading https://files.pythonhosted.org/packages/86/9e/c53e1fc61aac5ee490a6ac5e21b1ac04e55a7c2aba647bb8411c9aadf24e/vaderSentiment-3.2.1-py2.py3-none-any.whl (125kB)\n",
            "\r\u001b[K     |██▋                             | 10kB 28.1MB/s eta 0:00:01\r\u001b[K     |█████▏                          | 20kB 20.4MB/s eta 0:00:01\r\u001b[K     |███████▉                        | 30kB 25.0MB/s eta 0:00:01\r\u001b[K     |██████████▍                     | 40kB 18.3MB/s eta 0:00:01\r\u001b[K     |█████████████                   | 51kB 21.0MB/s eta 0:00:01\r\u001b[K     |███████████████▋                | 61kB 23.8MB/s eta 0:00:01\r\u001b[K     |██████████████████▎             | 71kB 20.7MB/s eta 0:00:01\r\u001b[K     |████████████████████▉           | 81kB 22.4MB/s eta 0:00:01\r\u001b[K     |███████████████████████▍        | 92kB 24.0MB/s eta 0:00:01\r\u001b[K     |██████████████████████████      | 102kB 22.2MB/s eta 0:00:01\r\u001b[K     |████████████████████████████▋   | 112kB 22.2MB/s eta 0:00:01\r\u001b[K     |███████████████████████████████▎| 122kB 22.2MB/s eta 0:00:01\r\u001b[K     |████████████████████████████████| 133kB 22.2MB/s \n",
            "\u001b[?25hInstalling collected packages: vaderSentiment\n",
            "Successfully installed vaderSentiment-3.2.1\n"
          ],
          "name": "stdout"
        }
      ]
    },
    {
      "cell_type": "code",
      "metadata": {
        "id": "CzTEuFSpUJ-x",
        "colab_type": "code",
        "outputId": "a26ee86d-da98-4454-8b53-a96018e9fa4c",
        "colab": {
          "base_uri": "https://localhost:8080/",
          "height": 51
        }
      },
      "source": [
        "from vaderSentiment.vaderSentiment import SentimentIntensityAnalyzer\n",
        "from tqdm import tqdm\n",
        "\n",
        "def sentiment_a(post_in):\n",
        "  sentences = list(post_in['body'])\n",
        "  analyzer = SentimentIntensityAnalyzer()\n",
        "  pos, compound, neu, neg = [],[],[],[]\n",
        "\n",
        "  # use Vader to give each sentence's sentiment score on different emotion\n",
        "  for sentence in tqdm(sentences):\n",
        "      vs = analyzer.polarity_scores(sentence)\n",
        "      pos.append(vs['pos'])\n",
        "      compound.append(vs['compound'])\n",
        "      neu.append(vs['neu'])\n",
        "      neg.append(vs['neg'])\n",
        "  return pos,compound,neu,neg\n",
        "\n",
        "pos,compound,neu,neg = sentiment_a(train_posts)\n",
        "pos_test,compound_test,neu_test,neg_test = sentiment_a(test_posts)"
      ],
      "execution_count": 0,
      "outputs": [
        {
          "output_type": "stream",
          "text": [
            "100%|██████████| 59450/59450 [00:46<00:00, 1285.16it/s]\n",
            "100%|██████████| 19812/19812 [00:15<00:00, 1263.75it/s]\n"
          ],
          "name": "stderr"
        }
      ]
    },
    {
      "cell_type": "code",
      "metadata": {
        "id": "nG4G6Y7VWaw8",
        "colab_type": "code",
        "outputId": "7992610e-b515-43dc-8341-9fe73dce035b",
        "colab": {
          "base_uri": "https://localhost:8080/",
          "height": 450
        }
      },
      "source": [
        "def sentiment_score(set_name,pos,compound,neu,neg):\n",
        "  a = pd.DataFrame(columns=['original_id','pos','compound','neu','neg'])\n",
        "  sentences_id = set_name.index.values.tolist()\n",
        "  a['original_id'] = sentences_id\n",
        "  a['pos'] = pos\n",
        "  a['compound'] = compound\n",
        "  a['neu'] = neu\n",
        "  a['neg'] = neg\n",
        "  return a.set_index('original_id')\n",
        "\n",
        "feature_5 = sentiment_score(train_posts,pos,compound,neu,neg)\n",
        "feature_5_test = sentiment_score(test_posts,pos_test,compound_test,neu_test,neg_test)\n",
        "feature_5"
      ],
      "execution_count": 0,
      "outputs": [
        {
          "output_type": "execute_result",
          "data": {
            "text/html": [
              "<div>\n",
              "<style scoped>\n",
              "    .dataframe tbody tr th:only-of-type {\n",
              "        vertical-align: middle;\n",
              "    }\n",
              "\n",
              "    .dataframe tbody tr th {\n",
              "        vertical-align: top;\n",
              "    }\n",
              "\n",
              "    .dataframe thead th {\n",
              "        text-align: right;\n",
              "    }\n",
              "</style>\n",
              "<table border=\"1\" class=\"dataframe\">\n",
              "  <thead>\n",
              "    <tr style=\"text-align: right;\">\n",
              "      <th></th>\n",
              "      <th>pos</th>\n",
              "      <th>compound</th>\n",
              "      <th>neu</th>\n",
              "      <th>neg</th>\n",
              "    </tr>\n",
              "    <tr>\n",
              "      <th>original_id</th>\n",
              "      <th></th>\n",
              "      <th></th>\n",
              "      <th></th>\n",
              "      <th></th>\n",
              "    </tr>\n",
              "  </thead>\n",
              "  <tbody>\n",
              "    <tr>\n",
              "      <th>10345</th>\n",
              "      <td>0.187</td>\n",
              "      <td>0.8172</td>\n",
              "      <td>0.813</td>\n",
              "      <td>0.000</td>\n",
              "    </tr>\n",
              "    <tr>\n",
              "      <th>46920</th>\n",
              "      <td>0.235</td>\n",
              "      <td>0.9165</td>\n",
              "      <td>0.765</td>\n",
              "      <td>0.000</td>\n",
              "    </tr>\n",
              "    <tr>\n",
              "      <th>54069</th>\n",
              "      <td>0.271</td>\n",
              "      <td>-0.4069</td>\n",
              "      <td>0.246</td>\n",
              "      <td>0.483</td>\n",
              "    </tr>\n",
              "    <tr>\n",
              "      <th>18306</th>\n",
              "      <td>0.065</td>\n",
              "      <td>0.2700</td>\n",
              "      <td>0.871</td>\n",
              "      <td>0.064</td>\n",
              "    </tr>\n",
              "    <tr>\n",
              "      <th>42159</th>\n",
              "      <td>0.356</td>\n",
              "      <td>0.8012</td>\n",
              "      <td>0.644</td>\n",
              "      <td>0.000</td>\n",
              "    </tr>\n",
              "    <tr>\n",
              "      <th>...</th>\n",
              "      <td>...</td>\n",
              "      <td>...</td>\n",
              "      <td>...</td>\n",
              "      <td>...</td>\n",
              "    </tr>\n",
              "    <tr>\n",
              "      <th>23887</th>\n",
              "      <td>0.042</td>\n",
              "      <td>-0.1928</td>\n",
              "      <td>0.894</td>\n",
              "      <td>0.064</td>\n",
              "    </tr>\n",
              "    <tr>\n",
              "      <th>81867</th>\n",
              "      <td>0.192</td>\n",
              "      <td>0.7834</td>\n",
              "      <td>0.675</td>\n",
              "      <td>0.133</td>\n",
              "    </tr>\n",
              "    <tr>\n",
              "      <th>55959</th>\n",
              "      <td>0.163</td>\n",
              "      <td>0.4449</td>\n",
              "      <td>0.837</td>\n",
              "      <td>0.000</td>\n",
              "    </tr>\n",
              "    <tr>\n",
              "      <th>5825</th>\n",
              "      <td>0.313</td>\n",
              "      <td>0.9183</td>\n",
              "      <td>0.617</td>\n",
              "      <td>0.071</td>\n",
              "    </tr>\n",
              "    <tr>\n",
              "      <th>86721</th>\n",
              "      <td>0.129</td>\n",
              "      <td>0.5707</td>\n",
              "      <td>0.871</td>\n",
              "      <td>0.000</td>\n",
              "    </tr>\n",
              "  </tbody>\n",
              "</table>\n",
              "<p>59450 rows × 4 columns</p>\n",
              "</div>"
            ],
            "text/plain": [
              "               pos  compound    neu    neg\n",
              "original_id                               \n",
              "10345        0.187    0.8172  0.813  0.000\n",
              "46920        0.235    0.9165  0.765  0.000\n",
              "54069        0.271   -0.4069  0.246  0.483\n",
              "18306        0.065    0.2700  0.871  0.064\n",
              "42159        0.356    0.8012  0.644  0.000\n",
              "...            ...       ...    ...    ...\n",
              "23887        0.042   -0.1928  0.894  0.064\n",
              "81867        0.192    0.7834  0.675  0.133\n",
              "55959        0.163    0.4449  0.837  0.000\n",
              "5825         0.313    0.9183  0.617  0.071\n",
              "86721        0.129    0.5707  0.871  0.000\n",
              "\n",
              "[59450 rows x 4 columns]"
            ]
          },
          "metadata": {
            "tags": []
          },
          "execution_count": 43
        }
      ]
    },
    {
      "cell_type": "markdown",
      "metadata": {
        "id": "bsUKfoyD_6G0",
        "colab_type": "text"
      },
      "source": [
        "### Fit & evaluate the model ###"
      ]
    },
    {
      "cell_type": "code",
      "metadata": {
        "id": "IT_HBLe4_52C",
        "colab_type": "code",
        "colab": {}
      },
      "source": [
        "import scipy\n",
        "from scipy.sparse import csr_matrix, hstack\n",
        "\n",
        "# convert dataframe features into sparse matrix\n",
        "feature_1_spa_matrix = feature_1\n",
        "feature_2_spa_matrix = scipy.sparse.csr_matrix(feature_2).transpose()\n",
        "feature_3_spa_matrix = scipy.sparse.csr_matrix(feature_3).transpose()\n",
        "feature_4_spa_matrix = feature_4\n",
        "feature_5_spa_matrix = scipy.sparse.csr_matrix(feature_5)\n",
        "\n",
        "# convert dataframe features for testing into sparse matrix\n",
        "feature_1_spa_matrix_test = feature_1_test\n",
        "feature_2_spa_matrix_test = scipy.sparse.csr_matrix(feature_2_test).transpose()\n",
        "feature_3_spa_matrix_test = scipy.sparse.csr_matrix(feature_3_test).transpose()\n",
        "feature_4_spa_matrix_test = feature_4_test\n",
        "feature_5_spa_matrix_test = scipy.sparse.csr_matrix(feature_5_test)\n",
        "\n",
        "# concat the 5 new features, then combine it with features used for training Q4 model\n",
        "combined_features_temp = hstack([feature_1_spa_matrix,feature_2_spa_matrix,feature_3_spa_matrix,feature_4_spa_matrix,feature_5_spa_matrix])\n",
        "combined_features = hstack([tfidf_train_features_B, combined_features_temp])\n",
        "\n",
        "combined_features_test = hstack([tfidf_test_features_B, feature_1_spa_matrix_test, feature_2_spa_matrix_test, feature_3_spa_matrix_test, feature_4_spa_matrix_test, feature_5_spa_matrix_test])\n"
      ],
      "execution_count": 0,
      "outputs": []
    },
    {
      "cell_type": "code",
      "metadata": {
        "id": "rMo-pLxWMNCo",
        "colab_type": "code",
        "outputId": "00655aac-db40-4d14-d7b8-6017e17c361e",
        "colab": {
          "base_uri": "https://localhost:8080/",
          "height": 102
        }
      },
      "source": [
        "lr_tfidf_Q5 = LogisticRegression(penalty='l2',solver='saga',C=10)\n",
        "lr_tfidf_Q5.fit(combined_features, train_labels)\n",
        "predict_labels_test_Q5 = lr_tfidf_Q5.predict(combined_features_test)\n",
        "\n",
        "a = score_summary(\"LR TF-IDF Q5\",predict_labels_test_Q5, test_labels)\n",
        "print(\"LR TF-IDF Q5 summary on test set\")\n",
        "print(tabulate([a],headers=[\"Acc\",\"Marco Precision\", \"Recall\", \"F1\"]))"
      ],
      "execution_count": 0,
      "outputs": [
        {
          "output_type": "stream",
          "text": [
            "Evaluating LR TF-IDF Q5\n",
            "LR TF-IDF Q5 summary on test set\n",
            "                Acc    Marco Precision    Recall    F1\n",
            "------------  -----  -----------------  --------  ----\n",
            "LR TF-IDF Q5  0.522               0.29     0.418  0.32\n"
          ],
          "name": "stdout"
        }
      ]
    },
    {
      "cell_type": "code",
      "metadata": {
        "id": "4djUvl8Gr_nn",
        "colab_type": "code",
        "outputId": "63eff23d-22fe-4287-8e61-b91f9616d858",
        "colab": {
          "base_uri": "https://localhost:8080/",
          "height": 989
        }
      },
      "source": [
        "import matplotlib.pyplot as plt\n",
        "import numpy as np\n",
        "import seaborn as sns\n",
        "\n",
        "cf_Q5 = confusion_matrix(test_labels, predict_labels_test_Q5, labels = test_labels)\n",
        "cf_Q5 = pd.DataFrame(cf_Q5,index=test_labels,columns=test_labels)\n",
        "cf_Q5 = cf_Q5.groupby(by=cf_Q5.columns, axis=1).sum()\n",
        "cf_Q5 = cf_Q5.groupby(by=cf_Q5.index, axis=0).sum()\n",
        "\n",
        "plt.figure(figsize=(20,15))\n",
        "ax = sns.heatmap(cf_Q5,annot=True,cmap='YlGn')\n",
        "ax.xaxis.tick_top()\n",
        "ax.xaxis.set_label_position('top') \n",
        "plt.title(\"Confusion metrics on test set\")\n",
        "plt.xticks(rotation=90)\n",
        "plt.xlabel(\"predict_discourse_type\")\n",
        "plt.ylabel(\"actual_discourse_type\")"
      ],
      "execution_count": 0,
      "outputs": [
        {
          "output_type": "execute_result",
          "data": {
            "text/plain": [
              "Text(159.0, 0.5, 'actual_discourse_type')"
            ]
          },
          "metadata": {
            "tags": []
          },
          "execution_count": 48
        },
        {
          "output_type": "display_data",
          "data": {
            "image/png": "[encoded data removed]",
            "text/plain": [
              "<Figure size 1440x1080 with 2 Axes>"
            ]
          },
          "metadata": {
            "tags": []
          }
        }
      ]
    },
    {
      "cell_type": "markdown",
      "metadata": {
        "id": "ti2hoyOU4sYk",
        "colab_type": "text"
      },
      "source": [
        "For different features, the indeies are as following:\n",
        "\n",
        "*   3 old features: [0 , 100499)\n",
        "*   new feature 1:  [100499, 101454)\n",
        "*   new feature 2:  101454\n",
        "*   new feature 3:  101455\n",
        "*   new feature 4:  [101456, 135619)\n",
        "*   new feature 5:  [135619, 135622)\n",
        "\n"
      ]
    },
    {
      "cell_type": "code",
      "metadata": {
        "id": "JbJBSyEsxt3Z",
        "colab_type": "code",
        "outputId": "f85725e4-1b0b-4943-9fa1-e0aab2a4f573",
        "colab": {
          "base_uri": "https://localhost:8080/",
          "height": 204
        }
      },
      "source": [
        "from sklearn.feature_selection import SelectFromModel\n",
        "from sklearn.feature_selection import RFE\n",
        "\n",
        "\n",
        "all_features = pd.DataFrame(pd.DataFrame(lr_tfidf_Q5.coef_).mean(),columns=['coef_'])\n",
        "feature_1_coef = ['feature 1', all_features[100500:101455].mean()[0]]\n",
        "feature_2_coef = ['feature 2', all_features[101455:101456].mean()[0]]\n",
        "feature_3_coef = ['feature 3', all_features[100456:101457].mean()[0]]\n",
        "feature_4_coef = ['feature 4', all_features[101457:135620].mean()[0]]\n",
        "feature_5_coef = ['feature 5', all_features[135620:135623].mean()[0]]\n",
        "pd.DataFrame([feature_1_coef,feature_2_coef,feature_3_coef,feature_4_coef,feature_5_coef],columns=['feature name','coef']).sort_values(by=['coef'], ascending=False)\n",
        "\n"
      ],
      "execution_count": 0,
      "outputs": [
        {
          "output_type": "execute_result",
          "data": {
            "text/html": [
              "<div>\n",
              "<style scoped>\n",
              "    .dataframe tbody tr th:only-of-type {\n",
              "        vertical-align: middle;\n",
              "    }\n",
              "\n",
              "    .dataframe tbody tr th {\n",
              "        vertical-align: top;\n",
              "    }\n",
              "\n",
              "    .dataframe thead th {\n",
              "        text-align: right;\n",
              "    }\n",
              "</style>\n",
              "<table border=\"1\" class=\"dataframe\">\n",
              "  <thead>\n",
              "    <tr style=\"text-align: right;\">\n",
              "      <th></th>\n",
              "      <th>feature name</th>\n",
              "      <th>coef</th>\n",
              "    </tr>\n",
              "  </thead>\n",
              "  <tbody>\n",
              "    <tr>\n",
              "      <th>0</th>\n",
              "      <td>feature 1</td>\n",
              "      <td>-1.216129e-16</td>\n",
              "    </tr>\n",
              "    <tr>\n",
              "      <th>3</th>\n",
              "      <td>feature 4</td>\n",
              "      <td>-1.693821e-16</td>\n",
              "    </tr>\n",
              "    <tr>\n",
              "      <th>2</th>\n",
              "      <td>feature 3</td>\n",
              "      <td>-4.872826e-15</td>\n",
              "    </tr>\n",
              "    <tr>\n",
              "      <th>4</th>\n",
              "      <td>feature 5</td>\n",
              "      <td>-1.507287e-13</td>\n",
              "    </tr>\n",
              "    <tr>\n",
              "      <th>1</th>\n",
              "      <td>feature 2</td>\n",
              "      <td>-4.758799e-12</td>\n",
              "    </tr>\n",
              "  </tbody>\n",
              "</table>\n",
              "</div>"
            ],
            "text/plain": [
              "  feature name          coef\n",
              "0    feature 1 -1.216129e-16\n",
              "3    feature 4 -1.693821e-16\n",
              "2    feature 3 -4.872826e-15\n",
              "4    feature 5 -1.507287e-13\n",
              "1    feature 2 -4.758799e-12"
            ]
          },
          "metadata": {
            "tags": []
          },
          "execution_count": 49
        }
      ]
    }
  ]
}